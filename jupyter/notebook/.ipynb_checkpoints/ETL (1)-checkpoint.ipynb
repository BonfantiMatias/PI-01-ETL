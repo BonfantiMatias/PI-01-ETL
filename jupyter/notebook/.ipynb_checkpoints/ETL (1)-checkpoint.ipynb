{
 "cells": [
  {
   "cell_type": "code",
   "execution_count": 1,
   "metadata": {},
   "outputs": [],
   "source": [
    "import findspark\n",
    "\n",
    "findspark.add_jars('/app/postgresql-42.1.4.jar')\n",
    "findspark.init()"
   ]
  },
  {
   "cell_type": "code",
   "execution_count": 2,
   "metadata": {},
   "outputs": [],
   "source": [
    "from pyspark.sql import SparkSession\n",
    "import pandas as pd\n",
    "\n",
    "spark = SparkSession.builder.appName(\"Henry:ETL\").getOrCreate()"
   ]
  },
  {
   "cell_type": "code",
   "execution_count": 3,
   "metadata": {},
   "outputs": [
    {
     "data": {
      "text/html": [
       "\n",
       "            <div>\n",
       "                <p><b>SparkSession - in-memory</b></p>\n",
       "                \n",
       "        <div>\n",
       "            <p><b>SparkContext</b></p>\n",
       "\n",
       "            <p><a href=\"http://0b0214e016c0:4040\">Spark UI</a></p>\n",
       "\n",
       "            <dl>\n",
       "              <dt>Version</dt>\n",
       "                <dd><code>v2.4.5</code></dd>\n",
       "              <dt>Master</dt>\n",
       "                <dd><code>spark://master:7077</code></dd>\n",
       "              <dt>AppName</dt>\n",
       "                <dd><code>Henry:ETL</code></dd>\n",
       "            </dl>\n",
       "        </div>\n",
       "        \n",
       "            </div>\n",
       "        "
      ],
      "text/plain": [
       "<pyspark.sql.session.SparkSession at 0x7f6210349d30>"
      ]
     },
     "execution_count": 3,
     "metadata": {},
     "output_type": "execute_result"
    }
   ],
   "source": [
    "spark"
   ]
  },
  {
   "cell_type": "code",
   "execution_count": 4,
   "metadata": {},
   "outputs": [],
   "source": [
    "import sys\n",
    "from pyspark.sql import SparkSession\n",
    "\n",
    "# UDF\n",
    "from pyspark.sql.types import StringType\n",
    "#\n",
    "from pyspark.sql import functions as F\n",
    "from pyspark.sql.window import Window"
   ]
  },
  {
   "cell_type": "code",
   "execution_count": null,
   "metadata": {},
   "outputs": [],
   "source": [
    "\n"
   ]
  },
  {
   "cell_type": "code",
   "execution_count": 5,
   "metadata": {},
   "outputs": [],
   "source": [
    "#Cargamos el primer dataset con pandas csv\n",
    "df1 = pd.read_csv('/dataset/Dataset/precios_semana_20200413.csv', encoding='UTF-16')"
   ]
  },
  {
   "cell_type": "code",
   "execution_count": 184,
   "metadata": {},
   "outputs": [
    {
     "name": "stdout",
     "output_type": "stream",
     "text": [
      "        precio    producto_id sucursal_id\n",
      "344944  139.00  7793620003591     10-1-25\n",
      "259096  398.70  7791293034768   11-5-1020\n",
      "283332  100.19  7791787000040    12-1-185\n",
      "230046   94.90  7791130135832      50-1-2\n",
      "169454  116.00  7790520019868     10-1-48\n",
      "precio         float64\n",
      "producto_id     object\n",
      "sucursal_id     object\n",
      "dtype: object\n"
     ]
    }
   ],
   "source": [
    "#Verificamos si se cargo correctamente\n",
    "print(df1.sample(5))\n",
    "print(df1.dtypes)"
   ]
  },
  {
   "cell_type": "code",
   "execution_count": 7,
   "metadata": {},
   "outputs": [
    {
     "data": {
      "text/plain": [
       "precio         13\n",
       "producto_id    15\n",
       "sucursal_id    15\n",
       "dtype: int64"
      ]
     },
     "execution_count": 7,
     "metadata": {},
     "output_type": "execute_result"
    }
   ],
   "source": [
    "df1.isnull().sum()"
   ]
  },
  {
   "cell_type": "code",
   "execution_count": 8,
   "metadata": {},
   "outputs": [],
   "source": [
    "#eliminamos los valores null\n",
    "\n",
    "df1 = df1.dropna()"
   ]
  },
  {
   "cell_type": "code",
   "execution_count": 9,
   "metadata": {},
   "outputs": [],
   "source": [
    "#Se define la funcion productos para normalizar los valos a 13 caracteres\n",
    "def productos(valor):\n",
    "    valor = str(valor)\n",
    "    while (len(valor)) != 13:\n",
    "        if len(valor) > 13:\n",
    "            valor = valor[-13:]\n",
    "            pass\n",
    "        else:\n",
    "            valor = \"0\"+valor\n",
    "    \n",
    "    return valor"
   ]
  },
  {
   "cell_type": "code",
   "execution_count": 10,
   "metadata": {},
   "outputs": [],
   "source": [
    "#aplicacamos la funcion a la columna producto_id\n",
    "df1['producto_id'] = df1['producto_id'].apply(productos)"
   ]
  },
  {
   "cell_type": "code",
   "execution_count": 11,
   "metadata": {},
   "outputs": [
    {
     "data": {
      "text/html": [
       "<div>\n",
       "<style scoped>\n",
       "    .dataframe tbody tr th:only-of-type {\n",
       "        vertical-align: middle;\n",
       "    }\n",
       "\n",
       "    .dataframe tbody tr th {\n",
       "        vertical-align: top;\n",
       "    }\n",
       "\n",
       "    .dataframe thead th {\n",
       "        text-align: right;\n",
       "    }\n",
       "</style>\n",
       "<table border=\"1\" class=\"dataframe\">\n",
       "  <thead>\n",
       "    <tr style=\"text-align: right;\">\n",
       "      <th></th>\n",
       "      <th>precio</th>\n",
       "      <th>producto_id</th>\n",
       "      <th>sucursal_id</th>\n",
       "    </tr>\n",
       "  </thead>\n",
       "  <tbody>\n",
       "    <tr>\n",
       "      <th>178804</th>\n",
       "      <td>33.30</td>\n",
       "      <td>7790580110475</td>\n",
       "      <td>11-5-3613</td>\n",
       "    </tr>\n",
       "    <tr>\n",
       "      <th>217422</th>\n",
       "      <td>34.00</td>\n",
       "      <td>7790971002150</td>\n",
       "      <td>10-2-272</td>\n",
       "    </tr>\n",
       "    <tr>\n",
       "      <th>32309</th>\n",
       "      <td>223.85</td>\n",
       "      <td>0000000055423</td>\n",
       "      <td>6-1-9</td>\n",
       "    </tr>\n",
       "    <tr>\n",
       "      <th>252842</th>\n",
       "      <td>101.39</td>\n",
       "      <td>7791293028781</td>\n",
       "      <td>11-5-3602</td>\n",
       "    </tr>\n",
       "    <tr>\n",
       "      <th>350159</th>\n",
       "      <td>56.70</td>\n",
       "      <td>7793913000887</td>\n",
       "      <td>16-1-1302</td>\n",
       "    </tr>\n",
       "    <tr>\n",
       "      <th>459411</th>\n",
       "      <td>399.00</td>\n",
       "      <td>7898024396673</td>\n",
       "      <td>50-1-2</td>\n",
       "    </tr>\n",
       "    <tr>\n",
       "      <th>186552</th>\n",
       "      <td>65.00</td>\n",
       "      <td>7790580956608</td>\n",
       "      <td>13-1-97</td>\n",
       "    </tr>\n",
       "    <tr>\n",
       "      <th>66055</th>\n",
       "      <td>19.23</td>\n",
       "      <td>7622210813459</td>\n",
       "      <td>47-1-1</td>\n",
       "    </tr>\n",
       "    <tr>\n",
       "      <th>378521</th>\n",
       "      <td>209.00</td>\n",
       "      <td>7795293106531</td>\n",
       "      <td>49-1-2</td>\n",
       "    </tr>\n",
       "    <tr>\n",
       "      <th>358922</th>\n",
       "      <td>29.30</td>\n",
       "      <td>7794000960022</td>\n",
       "      <td>10-2-286</td>\n",
       "    </tr>\n",
       "    <tr>\n",
       "      <th>379613</th>\n",
       "      <td>36.90</td>\n",
       "      <td>7795323771883</td>\n",
       "      <td>50-1-2</td>\n",
       "    </tr>\n",
       "    <tr>\n",
       "      <th>333322</th>\n",
       "      <td>119.00</td>\n",
       "      <td>7793253017224</td>\n",
       "      <td>9-2-107</td>\n",
       "    </tr>\n",
       "    <tr>\n",
       "      <th>436645</th>\n",
       "      <td>295.00</td>\n",
       "      <td>7798176000308</td>\n",
       "      <td>10-1-29</td>\n",
       "    </tr>\n",
       "    <tr>\n",
       "      <th>85479</th>\n",
       "      <td>43.99</td>\n",
       "      <td>7790040118621</td>\n",
       "      <td>16-1-1402</td>\n",
       "    </tr>\n",
       "    <tr>\n",
       "      <th>264114</th>\n",
       "      <td>45.00</td>\n",
       "      <td>7791337001299</td>\n",
       "      <td>10-3-644</td>\n",
       "    </tr>\n",
       "    <tr>\n",
       "      <th>403918</th>\n",
       "      <td>39.90</td>\n",
       "      <td>7798063363899</td>\n",
       "      <td>49-1-2</td>\n",
       "    </tr>\n",
       "    <tr>\n",
       "      <th>425940</th>\n",
       "      <td>79.99</td>\n",
       "      <td>7798138553835</td>\n",
       "      <td>25-1-1</td>\n",
       "    </tr>\n",
       "    <tr>\n",
       "      <th>378428</th>\n",
       "      <td>89.90</td>\n",
       "      <td>7795293000198</td>\n",
       "      <td>50-1-2</td>\n",
       "    </tr>\n",
       "    <tr>\n",
       "      <th>100534</th>\n",
       "      <td>153.40</td>\n",
       "      <td>7790070320117</td>\n",
       "      <td>5-1-3</td>\n",
       "    </tr>\n",
       "    <tr>\n",
       "      <th>200571</th>\n",
       "      <td>262.95</td>\n",
       "      <td>7790770003990</td>\n",
       "      <td>16-1-2702</td>\n",
       "    </tr>\n",
       "  </tbody>\n",
       "</table>\n",
       "</div>"
      ],
      "text/plain": [
       "        precio    producto_id sucursal_id\n",
       "178804   33.30  7790580110475   11-5-3613\n",
       "217422   34.00  7790971002150    10-2-272\n",
       "32309   223.85  0000000055423       6-1-9\n",
       "252842  101.39  7791293028781   11-5-3602\n",
       "350159   56.70  7793913000887   16-1-1302\n",
       "459411  399.00  7898024396673      50-1-2\n",
       "186552   65.00  7790580956608     13-1-97\n",
       "66055    19.23  7622210813459      47-1-1\n",
       "378521  209.00  7795293106531      49-1-2\n",
       "358922   29.30  7794000960022    10-2-286\n",
       "379613   36.90  7795323771883      50-1-2\n",
       "333322  119.00  7793253017224     9-2-107\n",
       "436645  295.00  7798176000308     10-1-29\n",
       "85479    43.99  7790040118621   16-1-1402\n",
       "264114   45.00  7791337001299    10-3-644\n",
       "403918   39.90  7798063363899      49-1-2\n",
       "425940   79.99  7798138553835      25-1-1\n",
       "378428   89.90  7795293000198      50-1-2\n",
       "100534  153.40  7790070320117       5-1-3\n",
       "200571  262.95  7790770003990   16-1-2702"
      ]
     },
     "execution_count": 11,
     "metadata": {},
     "output_type": "execute_result"
    }
   ],
   "source": [
    "df1.sample(20)"
   ]
  },
  {
   "cell_type": "code",
   "execution_count": 12,
   "metadata": {},
   "outputs": [],
   "source": [
    "df2 = pd.read_json('/dataset/Dataset/precios_semana_20200503.json')"
   ]
  },
  {
   "cell_type": "code",
   "execution_count": 13,
   "metadata": {},
   "outputs": [
    {
     "name": "stdout",
     "output_type": "stream",
     "text": [
      "   precio    producto_id sucursal_id\n",
      "0    29.9  0000000002288     2-1-187\n",
      "1    39.9  0000000002288     2-3-247\n",
      "2  499.99  0000000205870     9-1-685\n",
      "3  539.99  0000000205870      9-2-22\n",
      "4  519.99  0000000205870      9-2-59\n",
      "precio         object\n",
      "producto_id    object\n",
      "sucursal_id    object\n",
      "dtype: object\n"
     ]
    }
   ],
   "source": [
    "print(df2.head())\n",
    "print(df2.dtypes)"
   ]
  },
  {
   "cell_type": "code",
   "execution_count": 60,
   "metadata": {},
   "outputs": [
    {
     "data": {
      "text/plain": [
       "precio         0\n",
       "producto_id    0\n",
       "sucursal_id    0\n",
       "dtype: int64"
      ]
     },
     "execution_count": 60,
     "metadata": {},
     "output_type": "execute_result"
    }
   ],
   "source": [
    "df2.isna().sum()"
   ]
  },
  {
   "cell_type": "code",
   "execution_count": 94,
   "metadata": {},
   "outputs": [
    {
     "data": {
      "text/html": [
       "<div>\n",
       "<style scoped>\n",
       "    .dataframe tbody tr th:only-of-type {\n",
       "        vertical-align: middle;\n",
       "    }\n",
       "\n",
       "    .dataframe tbody tr th {\n",
       "        vertical-align: top;\n",
       "    }\n",
       "\n",
       "    .dataframe thead th {\n",
       "        text-align: right;\n",
       "    }\n",
       "</style>\n",
       "<table border=\"1\" class=\"dataframe\">\n",
       "  <thead>\n",
       "    <tr style=\"text-align: right;\">\n",
       "      <th></th>\n",
       "      <th>precio</th>\n",
       "      <th>producto_id</th>\n",
       "      <th>sucursal_id</th>\n",
       "    </tr>\n",
       "  </thead>\n",
       "  <tbody>\n",
       "    <tr>\n",
       "      <th>264197</th>\n",
       "      <td>205</td>\n",
       "      <td>7792710000106</td>\n",
       "      <td>1-1-7</td>\n",
       "    </tr>\n",
       "    <tr>\n",
       "      <th>164512</th>\n",
       "      <td>183.9</td>\n",
       "      <td>7790740507909</td>\n",
       "      <td>5-1-5</td>\n",
       "    </tr>\n",
       "    <tr>\n",
       "      <th>53535</th>\n",
       "      <td>190</td>\n",
       "      <td>7613036402927</td>\n",
       "      <td>10-1-53</td>\n",
       "    </tr>\n",
       "    <tr>\n",
       "      <th>195195</th>\n",
       "      <td>149</td>\n",
       "      <td>7791130146791</td>\n",
       "      <td>13-1-120</td>\n",
       "    </tr>\n",
       "    <tr>\n",
       "      <th>242872</th>\n",
       "      <td>37.9</td>\n",
       "      <td>7791843003367</td>\n",
       "      <td>49-1-2</td>\n",
       "    </tr>\n",
       "    <tr>\n",
       "      <th>123580</th>\n",
       "      <td>40</td>\n",
       "      <td>7790360966193</td>\n",
       "      <td>9-1-194</td>\n",
       "    </tr>\n",
       "    <tr>\n",
       "      <th>310420</th>\n",
       "      <td>99</td>\n",
       "      <td>7794529040540</td>\n",
       "      <td>13-1-52</td>\n",
       "    </tr>\n",
       "    <tr>\n",
       "      <th>311026</th>\n",
       "      <td></td>\n",
       "      <td>7794612101493</td>\n",
       "      <td>65-1-317</td>\n",
       "    </tr>\n",
       "    <tr>\n",
       "      <th>27515</th>\n",
       "      <td>550</td>\n",
       "      <td>0000000011185</td>\n",
       "      <td>6-2-1</td>\n",
       "    </tr>\n",
       "    <tr>\n",
       "      <th>266281</th>\n",
       "      <td>158</td>\n",
       "      <td>7792798006199</td>\n",
       "      <td>10-1-26</td>\n",
       "    </tr>\n",
       "    <tr>\n",
       "      <th>90264</th>\n",
       "      <td>119</td>\n",
       "      <td>7790072000079</td>\n",
       "      <td>10-1-235</td>\n",
       "    </tr>\n",
       "    <tr>\n",
       "      <th>381335</th>\n",
       "      <td>102</td>\n",
       "      <td>7891079012499</td>\n",
       "      <td>10-1-53</td>\n",
       "    </tr>\n",
       "    <tr>\n",
       "      <th>348452</th>\n",
       "      <td>11.9</td>\n",
       "      <td>7798092964128</td>\n",
       "      <td>50-1-2</td>\n",
       "    </tr>\n",
       "    <tr>\n",
       "      <th>128022</th>\n",
       "      <td>111.25</td>\n",
       "      <td>7790411000500</td>\n",
       "      <td>20-1-1</td>\n",
       "    </tr>\n",
       "    <tr>\n",
       "      <th>393228</th>\n",
       "      <td>51.99</td>\n",
       "      <td>8480017042996</td>\n",
       "      <td>15-1-543</td>\n",
       "    </tr>\n",
       "    <tr>\n",
       "      <th>52090</th>\n",
       "      <td>1226</td>\n",
       "      <td>7613035010185</td>\n",
       "      <td>9-3-5218</td>\n",
       "    </tr>\n",
       "    <tr>\n",
       "      <th>349152</th>\n",
       "      <td>190</td>\n",
       "      <td>7798096051251</td>\n",
       "      <td>10-1-235</td>\n",
       "    </tr>\n",
       "    <tr>\n",
       "      <th>246858</th>\n",
       "      <td>56.99</td>\n",
       "      <td>7791905023067</td>\n",
       "      <td>36-6-40</td>\n",
       "    </tr>\n",
       "    <tr>\n",
       "      <th>83830</th>\n",
       "      <td>51.95</td>\n",
       "      <td>7790070318374</td>\n",
       "      <td>6-2-1</td>\n",
       "    </tr>\n",
       "    <tr>\n",
       "      <th>309002</th>\n",
       "      <td>1923.9</td>\n",
       "      <td>7794450091376</td>\n",
       "      <td>12-1-185</td>\n",
       "    </tr>\n",
       "  </tbody>\n",
       "</table>\n",
       "</div>"
      ],
      "text/plain": [
       "        precio    producto_id sucursal_id\n",
       "264197     205  7792710000106       1-1-7\n",
       "164512   183.9  7790740507909       5-1-5\n",
       "53535      190  7613036402927     10-1-53\n",
       "195195     149  7791130146791    13-1-120\n",
       "242872    37.9  7791843003367      49-1-2\n",
       "123580      40  7790360966193     9-1-194\n",
       "310420      99  7794529040540     13-1-52\n",
       "311026          7794612101493    65-1-317\n",
       "27515      550  0000000011185       6-2-1\n",
       "266281     158  7792798006199     10-1-26\n",
       "90264      119  7790072000079    10-1-235\n",
       "381335     102  7891079012499     10-1-53\n",
       "348452    11.9  7798092964128      50-1-2\n",
       "128022  111.25  7790411000500      20-1-1\n",
       "393228   51.99  8480017042996    15-1-543\n",
       "52090     1226  7613035010185    9-3-5218\n",
       "349152     190  7798096051251    10-1-235\n",
       "246858   56.99  7791905023067     36-6-40\n",
       "83830    51.95  7790070318374       6-2-1\n",
       "309002  1923.9  7794450091376    12-1-185"
      ]
     },
     "execution_count": 94,
     "metadata": {},
     "output_type": "execute_result"
    }
   ],
   "source": [
    "df2.sample(20)"
   ]
  },
  {
   "cell_type": "code",
   "execution_count": 95,
   "metadata": {},
   "outputs": [],
   "source": [
    "df2['producto_id'] = df2['producto_id'].apply(productos)"
   ]
  },
  {
   "cell_type": "code",
   "execution_count": 96,
   "metadata": {},
   "outputs": [],
   "source": [
    "def vacios(x):\n",
    "    if x == '':\n",
    "        x = 0\n",
    "    else:\n",
    "        pass\n",
    "    return x"
   ]
  },
  {
   "cell_type": "code",
   "execution_count": 100,
   "metadata": {},
   "outputs": [],
   "source": [
    "df2['precio'] = df2['precio'].apply(vacios)"
   ]
  },
  {
   "cell_type": "code",
   "execution_count": 109,
   "metadata": {},
   "outputs": [
    {
     "data": {
      "text/plain": [
       "precio                     0\n",
       "producto_id    7794612101493\n",
       "sucursal_id         65-1-317\n",
       "Name: 311026, dtype: object"
      ]
     },
     "execution_count": 109,
     "metadata": {},
     "output_type": "execute_result"
    }
   ],
   "source": []
  },
  {
   "cell_type": "code",
   "execution_count": null,
   "metadata": {},
   "outputs": [],
   "source": [
    "df2['precio'] = df2['precio']."
   ]
  },
  {
   "cell_type": "code",
   "execution_count": 16,
   "metadata": {},
   "outputs": [
    {
     "data": {
      "text/html": [
       "<div>\n",
       "<style scoped>\n",
       "    .dataframe tbody tr th:only-of-type {\n",
       "        vertical-align: middle;\n",
       "    }\n",
       "\n",
       "    .dataframe tbody tr th {\n",
       "        vertical-align: top;\n",
       "    }\n",
       "\n",
       "    .dataframe thead th {\n",
       "        text-align: right;\n",
       "    }\n",
       "</style>\n",
       "<table border=\"1\" class=\"dataframe\">\n",
       "  <thead>\n",
       "    <tr style=\"text-align: right;\">\n",
       "      <th></th>\n",
       "      <th>precio</th>\n",
       "      <th>producto_id</th>\n",
       "      <th>sucursal_id</th>\n",
       "    </tr>\n",
       "  </thead>\n",
       "  <tbody>\n",
       "    <tr>\n",
       "      <th>96822</th>\n",
       "      <td>105.65</td>\n",
       "      <td>7790127784497</td>\n",
       "      <td>6-1-17</td>\n",
       "    </tr>\n",
       "    <tr>\n",
       "      <th>85701</th>\n",
       "      <td>62</td>\n",
       "      <td>7790070410603</td>\n",
       "      <td>16-1-1502</td>\n",
       "    </tr>\n",
       "    <tr>\n",
       "      <th>201275</th>\n",
       "      <td>31.9</td>\n",
       "      <td>7791274002458</td>\n",
       "      <td>49-1-2</td>\n",
       "    </tr>\n",
       "    <tr>\n",
       "      <th>286363</th>\n",
       "      <td>149</td>\n",
       "      <td>7793360004254</td>\n",
       "      <td>49-1-2</td>\n",
       "    </tr>\n",
       "    <tr>\n",
       "      <th>194507</th>\n",
       "      <td>79.99</td>\n",
       "      <td>7791130029414</td>\n",
       "      <td>25-1-1</td>\n",
       "    </tr>\n",
       "  </tbody>\n",
       "</table>\n",
       "</div>"
      ],
      "text/plain": [
       "        precio    producto_id sucursal_id\n",
       "96822   105.65  7790127784497      6-1-17\n",
       "85701       62  7790070410603   16-1-1502\n",
       "201275    31.9  7791274002458      49-1-2\n",
       "286363     149  7793360004254      49-1-2\n",
       "194507   79.99  7791130029414      25-1-1"
      ]
     },
     "execution_count": 16,
     "metadata": {},
     "output_type": "execute_result"
    }
   ],
   "source": [
    "df2.sample(5)"
   ]
  },
  {
   "cell_type": "code",
   "execution_count": 17,
   "metadata": {},
   "outputs": [],
   "source": [
    "df4 = pd.read_csv('/dataset/Dataset/precios_semanas_20200419_20200419.csv')"
   ]
  },
  {
   "cell_type": "code",
   "execution_count": 18,
   "metadata": {},
   "outputs": [
    {
     "name": "stdout",
     "output_type": "stream",
     "text": [
      "precio         1807\n",
      "sucursal_id       0\n",
      "producto_id       0\n",
      "dtype: int64\n",
      "   precio sucursal_id producto_id\n",
      "0   29.90     2-1-184        2288\n",
      "1   39.90     2-1-206        2288\n",
      "2  499.99     9-1-430      205870\n",
      "3  539.99     9-2-107      205870\n",
      "4  539.99  03/09/5218      205870\n"
     ]
    }
   ],
   "source": [
    "print(df4.isna().sum())\n",
    "print(df4.head())"
   ]
  },
  {
   "cell_type": "code",
   "execution_count": 19,
   "metadata": {},
   "outputs": [],
   "source": [
    "df4 = df4.dropna()"
   ]
  },
  {
   "cell_type": "code",
   "execution_count": 20,
   "metadata": {},
   "outputs": [],
   "source": [
    "def sucursal(dato):\n",
    "    dato = dato.replace('/','-')\n",
    "    return dato"
   ]
  },
  {
   "cell_type": "code",
   "execution_count": 21,
   "metadata": {},
   "outputs": [],
   "source": [
    "df4['sucursal_id'] = df4['sucursal_id'].apply(sucursal)"
   ]
  },
  {
   "cell_type": "code",
   "execution_count": 22,
   "metadata": {},
   "outputs": [],
   "source": [
    "df4['producto_id'] = df4['producto_id'].apply(productos)"
   ]
  },
  {
   "cell_type": "code",
   "execution_count": 133,
   "metadata": {},
   "outputs": [
    {
     "data": {
      "text/html": [
       "<div>\n",
       "<style scoped>\n",
       "    .dataframe tbody tr th:only-of-type {\n",
       "        vertical-align: middle;\n",
       "    }\n",
       "\n",
       "    .dataframe tbody tr th {\n",
       "        vertical-align: top;\n",
       "    }\n",
       "\n",
       "    .dataframe thead th {\n",
       "        text-align: right;\n",
       "    }\n",
       "</style>\n",
       "<table border=\"1\" class=\"dataframe\">\n",
       "  <thead>\n",
       "    <tr style=\"text-align: right;\">\n",
       "      <th></th>\n",
       "      <th>precio</th>\n",
       "    </tr>\n",
       "  </thead>\n",
       "  <tbody>\n",
       "    <tr>\n",
       "      <th>count</th>\n",
       "      <td>4.567360e+05</td>\n",
       "    </tr>\n",
       "    <tr>\n",
       "      <th>mean</th>\n",
       "      <td>2.364533e+12</td>\n",
       "    </tr>\n",
       "    <tr>\n",
       "      <th>std</th>\n",
       "      <td>2.977930e+14</td>\n",
       "    </tr>\n",
       "    <tr>\n",
       "      <th>min</th>\n",
       "      <td>2.200000e-01</td>\n",
       "    </tr>\n",
       "    <tr>\n",
       "      <th>25%</th>\n",
       "      <td>6.700000e+01</td>\n",
       "    </tr>\n",
       "    <tr>\n",
       "      <th>50%</th>\n",
       "      <td>1.190000e+02</td>\n",
       "    </tr>\n",
       "    <tr>\n",
       "      <th>75%</th>\n",
       "      <td>2.139900e+02</td>\n",
       "    </tr>\n",
       "    <tr>\n",
       "      <th>max</th>\n",
       "      <td>4.399890e+16</td>\n",
       "    </tr>\n",
       "  </tbody>\n",
       "</table>\n",
       "</div>"
      ],
      "text/plain": [
       "             precio\n",
       "count  4.567360e+05\n",
       "mean   2.364533e+12\n",
       "std    2.977930e+14\n",
       "min    2.200000e-01\n",
       "25%    6.700000e+01\n",
       "50%    1.190000e+02\n",
       "75%    2.139900e+02\n",
       "max    4.399890e+16"
      ]
     },
     "execution_count": 133,
     "metadata": {},
     "output_type": "execute_result"
    }
   ],
   "source": [
    "df4.describe()"
   ]
  },
  {
   "cell_type": "code",
   "execution_count": 134,
   "metadata": {},
   "outputs": [
    {
     "data": {
      "text/html": [
       "<div>\n",
       "<style scoped>\n",
       "    .dataframe tbody tr th:only-of-type {\n",
       "        vertical-align: middle;\n",
       "    }\n",
       "\n",
       "    .dataframe tbody tr th {\n",
       "        vertical-align: top;\n",
       "    }\n",
       "\n",
       "    .dataframe thead th {\n",
       "        text-align: right;\n",
       "    }\n",
       "</style>\n",
       "<table border=\"1\" class=\"dataframe\">\n",
       "  <thead>\n",
       "    <tr style=\"text-align: right;\">\n",
       "      <th></th>\n",
       "      <th>precio</th>\n",
       "      <th>sucursal_id</th>\n",
       "      <th>producto_id</th>\n",
       "    </tr>\n",
       "  </thead>\n",
       "  <tbody>\n",
       "    <tr>\n",
       "      <th>0</th>\n",
       "      <td>29.90</td>\n",
       "      <td>2-1-184</td>\n",
       "      <td>0000000002288</td>\n",
       "    </tr>\n",
       "    <tr>\n",
       "      <th>1</th>\n",
       "      <td>39.90</td>\n",
       "      <td>2-1-206</td>\n",
       "      <td>0000000002288</td>\n",
       "    </tr>\n",
       "    <tr>\n",
       "      <th>2</th>\n",
       "      <td>499.99</td>\n",
       "      <td>9-1-430</td>\n",
       "      <td>0000000205870</td>\n",
       "    </tr>\n",
       "    <tr>\n",
       "      <th>3</th>\n",
       "      <td>539.99</td>\n",
       "      <td>9-2-107</td>\n",
       "      <td>0000000205870</td>\n",
       "    </tr>\n",
       "    <tr>\n",
       "      <th>4</th>\n",
       "      <td>539.99</td>\n",
       "      <td>03-09-5218</td>\n",
       "      <td>0000000205870</td>\n",
       "    </tr>\n",
       "  </tbody>\n",
       "</table>\n",
       "</div>"
      ],
      "text/plain": [
       "   precio sucursal_id    producto_id\n",
       "0   29.90     2-1-184  0000000002288\n",
       "1   39.90     2-1-206  0000000002288\n",
       "2  499.99     9-1-430  0000000205870\n",
       "3  539.99     9-2-107  0000000205870\n",
       "4  539.99  03-09-5218  0000000205870"
      ]
     },
     "execution_count": 134,
     "metadata": {},
     "output_type": "execute_result"
    }
   ],
   "source": [
    "df4.head()"
   ]
  },
  {
   "cell_type": "code",
   "execution_count": 24,
   "metadata": {},
   "outputs": [],
   "source": [
    "df5 = pd.read_csv('/dataset/Dataset/precios_semanas_20200426_20200426.csv')"
   ]
  },
  {
   "cell_type": "code",
   "execution_count": 25,
   "metadata": {},
   "outputs": [
    {
     "name": "stdout",
     "output_type": "stream",
     "text": [
      "precio          1736\n",
      "sucursal_id        0\n",
      "producto_id    13519\n",
      "dtype: int64\n",
      "    precio sucursal_id  producto_id\n",
      "0    399.0     2-1-092       2288.0\n",
      "1    299.0     2-1-206       2288.0\n",
      "2    399.0     2-2-241       2288.0\n",
      "3  49999.0     9-1-430     205870.0\n",
      "4  53999.0       9-2-4     205870.0\n",
      "precio         float64\n",
      "sucursal_id     object\n",
      "producto_id    float64\n",
      "dtype: object\n"
     ]
    }
   ],
   "source": [
    "print(df5.isna().sum())\n",
    "print(df5.head())\n",
    "print(df5.dtypes)"
   ]
  },
  {
   "cell_type": "code",
   "execution_count": 137,
   "metadata": {},
   "outputs": [
    {
     "data": {
      "text/plain": [
       "3441715.0"
      ]
     },
     "execution_count": 137,
     "metadata": {},
     "output_type": "execute_result"
    }
   ],
   "source": [
    "df5 = df5.dropna()\n",
    "df5['precio'].max()\n"
   ]
  },
  {
   "cell_type": "code",
   "execution_count": 27,
   "metadata": {},
   "outputs": [],
   "source": [
    "def decimal(num):\n",
    "    num = str(num)\n",
    "    num = num.replace('.0','')\n",
    "    return num"
   ]
  },
  {
   "cell_type": "code",
   "execution_count": 28,
   "metadata": {},
   "outputs": [],
   "source": [
    "df5['producto_id'] = df5['producto_id'].apply(decimal)"
   ]
  },
  {
   "cell_type": "code",
   "execution_count": 29,
   "metadata": {},
   "outputs": [
    {
     "data": {
      "text/html": [
       "<div>\n",
       "<style scoped>\n",
       "    .dataframe tbody tr th:only-of-type {\n",
       "        vertical-align: middle;\n",
       "    }\n",
       "\n",
       "    .dataframe tbody tr th {\n",
       "        vertical-align: top;\n",
       "    }\n",
       "\n",
       "    .dataframe thead th {\n",
       "        text-align: right;\n",
       "    }\n",
       "</style>\n",
       "<table border=\"1\" class=\"dataframe\">\n",
       "  <thead>\n",
       "    <tr style=\"text-align: right;\">\n",
       "      <th></th>\n",
       "      <th>precio</th>\n",
       "      <th>sucursal_id</th>\n",
       "      <th>producto_id</th>\n",
       "    </tr>\n",
       "  </thead>\n",
       "  <tbody>\n",
       "    <tr>\n",
       "      <th>0</th>\n",
       "      <td>399.0</td>\n",
       "      <td>2-1-092</td>\n",
       "      <td>2288</td>\n",
       "    </tr>\n",
       "    <tr>\n",
       "      <th>1</th>\n",
       "      <td>299.0</td>\n",
       "      <td>2-1-206</td>\n",
       "      <td>2288</td>\n",
       "    </tr>\n",
       "    <tr>\n",
       "      <th>2</th>\n",
       "      <td>399.0</td>\n",
       "      <td>2-2-241</td>\n",
       "      <td>2288</td>\n",
       "    </tr>\n",
       "    <tr>\n",
       "      <th>3</th>\n",
       "      <td>49999.0</td>\n",
       "      <td>9-1-430</td>\n",
       "      <td>205870</td>\n",
       "    </tr>\n",
       "    <tr>\n",
       "      <th>4</th>\n",
       "      <td>53999.0</td>\n",
       "      <td>9-2-4</td>\n",
       "      <td>205870</td>\n",
       "    </tr>\n",
       "  </tbody>\n",
       "</table>\n",
       "</div>"
      ],
      "text/plain": [
       "    precio sucursal_id producto_id\n",
       "0    399.0     2-1-092        2288\n",
       "1    299.0     2-1-206        2288\n",
       "2    399.0     2-2-241        2288\n",
       "3  49999.0     9-1-430      205870\n",
       "4  53999.0       9-2-4      205870"
      ]
     },
     "execution_count": 29,
     "metadata": {},
     "output_type": "execute_result"
    }
   ],
   "source": [
    "df5.head(5)"
   ]
  },
  {
   "cell_type": "code",
   "execution_count": 30,
   "metadata": {},
   "outputs": [],
   "source": [
    "df5['sucursal_id'] = df5['sucursal_id'].apply(sucursal)"
   ]
  },
  {
   "cell_type": "code",
   "execution_count": 31,
   "metadata": {},
   "outputs": [],
   "source": [
    "df5['producto_id'] = df5['producto_id'].apply(productos)"
   ]
  },
  {
   "cell_type": "code",
   "execution_count": 32,
   "metadata": {},
   "outputs": [
    {
     "data": {
      "text/html": [
       "<div>\n",
       "<style scoped>\n",
       "    .dataframe tbody tr th:only-of-type {\n",
       "        vertical-align: middle;\n",
       "    }\n",
       "\n",
       "    .dataframe tbody tr th {\n",
       "        vertical-align: top;\n",
       "    }\n",
       "\n",
       "    .dataframe thead th {\n",
       "        text-align: right;\n",
       "    }\n",
       "</style>\n",
       "<table border=\"1\" class=\"dataframe\">\n",
       "  <thead>\n",
       "    <tr style=\"text-align: right;\">\n",
       "      <th></th>\n",
       "      <th>precio</th>\n",
       "      <th>sucursal_id</th>\n",
       "      <th>producto_id</th>\n",
       "    </tr>\n",
       "  </thead>\n",
       "  <tbody>\n",
       "    <tr>\n",
       "      <th>0</th>\n",
       "      <td>399.0</td>\n",
       "      <td>2-1-092</td>\n",
       "      <td>0000000002288</td>\n",
       "    </tr>\n",
       "    <tr>\n",
       "      <th>1</th>\n",
       "      <td>299.0</td>\n",
       "      <td>2-1-206</td>\n",
       "      <td>0000000002288</td>\n",
       "    </tr>\n",
       "    <tr>\n",
       "      <th>2</th>\n",
       "      <td>399.0</td>\n",
       "      <td>2-2-241</td>\n",
       "      <td>0000000002288</td>\n",
       "    </tr>\n",
       "    <tr>\n",
       "      <th>3</th>\n",
       "      <td>49999.0</td>\n",
       "      <td>9-1-430</td>\n",
       "      <td>0000000205870</td>\n",
       "    </tr>\n",
       "    <tr>\n",
       "      <th>4</th>\n",
       "      <td>53999.0</td>\n",
       "      <td>9-2-4</td>\n",
       "      <td>0000000205870</td>\n",
       "    </tr>\n",
       "  </tbody>\n",
       "</table>\n",
       "</div>"
      ],
      "text/plain": [
       "    precio sucursal_id    producto_id\n",
       "0    399.0     2-1-092  0000000002288\n",
       "1    299.0     2-1-206  0000000002288\n",
       "2    399.0     2-2-241  0000000002288\n",
       "3  49999.0     9-1-430  0000000205870\n",
       "4  53999.0       9-2-4  0000000205870"
      ]
     },
     "execution_count": 32,
     "metadata": {},
     "output_type": "execute_result"
    }
   ],
   "source": [
    "df5.head()"
   ]
  },
  {
   "cell_type": "code",
   "execution_count": 164,
   "metadata": {},
   "outputs": [],
   "source": [
    "df6 = pd.read_parquet('/dataset/Dataset/producto.parquet', engine='pyarrow')"
   ]
  },
  {
   "cell_type": "code",
   "execution_count": 165,
   "metadata": {},
   "outputs": [
    {
     "data": {
      "text/plain": [
       "id              object\n",
       "marca           object\n",
       "nombre          object\n",
       "presentacion    object\n",
       "categoria1      object\n",
       "categoria2      object\n",
       "categoria3      object\n",
       "dtype: object"
      ]
     },
     "execution_count": 165,
     "metadata": {},
     "output_type": "execute_result"
    }
   ],
   "source": [
    "df6.dtypes"
   ]
  },
  {
   "cell_type": "code",
   "execution_count": 166,
   "metadata": {},
   "outputs": [
    {
     "data": {
      "text/html": [
       "<div>\n",
       "<style scoped>\n",
       "    .dataframe tbody tr th:only-of-type {\n",
       "        vertical-align: middle;\n",
       "    }\n",
       "\n",
       "    .dataframe tbody tr th {\n",
       "        vertical-align: top;\n",
       "    }\n",
       "\n",
       "    .dataframe thead th {\n",
       "        text-align: right;\n",
       "    }\n",
       "</style>\n",
       "<table border=\"1\" class=\"dataframe\">\n",
       "  <thead>\n",
       "    <tr style=\"text-align: right;\">\n",
       "      <th></th>\n",
       "      <th>id</th>\n",
       "      <th>marca</th>\n",
       "      <th>nombre</th>\n",
       "      <th>presentacion</th>\n",
       "      <th>categoria1</th>\n",
       "      <th>categoria2</th>\n",
       "      <th>categoria3</th>\n",
       "    </tr>\n",
       "  </thead>\n",
       "  <tbody>\n",
       "    <tr>\n",
       "      <th>70175</th>\n",
       "      <td>9-1-0000000257398</td>\n",
       "      <td>SIN MARCA</td>\n",
       "      <td>Queso y Dulce en Sobre 1 Kg</td>\n",
       "      <td>1.0 kg</td>\n",
       "      <td>None</td>\n",
       "      <td>None</td>\n",
       "      <td>None</td>\n",
       "    </tr>\n",
       "    <tr>\n",
       "      <th>55786</th>\n",
       "      <td>7798061000376</td>\n",
       "      <td>INCA</td>\n",
       "      <td>Jugo en Polvo Limon Inca 20 Gr</td>\n",
       "      <td>20.0 gr</td>\n",
       "      <td>None</td>\n",
       "      <td>None</td>\n",
       "      <td>None</td>\n",
       "    </tr>\n",
       "    <tr>\n",
       "      <th>25300</th>\n",
       "      <td>7790520020826</td>\n",
       "      <td>LYSOFORM</td>\n",
       "      <td>Disco Adhesivo Inodoro Lavanda Full Lysoform 3...</td>\n",
       "      <td>38.0 gr</td>\n",
       "      <td>None</td>\n",
       "      <td>None</td>\n",
       "      <td>None</td>\n",
       "    </tr>\n",
       "    <tr>\n",
       "      <th>54889</th>\n",
       "      <td>7798045214003</td>\n",
       "      <td>KOSIUKO</td>\n",
       "      <td>Perfume Kosiuko California Valley 100 Ml</td>\n",
       "      <td>100.0 ml</td>\n",
       "      <td>None</td>\n",
       "      <td>None</td>\n",
       "      <td>None</td>\n",
       "    </tr>\n",
       "    <tr>\n",
       "      <th>40772</th>\n",
       "      <td>7792354001958</td>\n",
       "      <td>MARENGO</td>\n",
       "      <td>Caramelos Masticables Marengo 500 Gr</td>\n",
       "      <td>500.0 gr</td>\n",
       "      <td>None</td>\n",
       "      <td>None</td>\n",
       "      <td>None</td>\n",
       "    </tr>\n",
       "  </tbody>\n",
       "</table>\n",
       "</div>"
      ],
      "text/plain": [
       "                      id      marca  \\\n",
       "70175  9-1-0000000257398  SIN MARCA   \n",
       "55786      7798061000376       INCA   \n",
       "25300      7790520020826   LYSOFORM   \n",
       "54889      7798045214003    KOSIUKO   \n",
       "40772      7792354001958    MARENGO   \n",
       "\n",
       "                                                  nombre presentacion  \\\n",
       "70175                        Queso y Dulce en Sobre 1 Kg       1.0 kg   \n",
       "55786                     Jugo en Polvo Limon Inca 20 Gr      20.0 gr   \n",
       "25300  Disco Adhesivo Inodoro Lavanda Full Lysoform 3...      38.0 gr   \n",
       "54889           Perfume Kosiuko California Valley 100 Ml     100.0 ml   \n",
       "40772               Caramelos Masticables Marengo 500 Gr     500.0 gr   \n",
       "\n",
       "      categoria1 categoria2 categoria3  \n",
       "70175       None       None       None  \n",
       "55786       None       None       None  \n",
       "25300       None       None       None  \n",
       "54889       None       None       None  \n",
       "40772       None       None       None  "
      ]
     },
     "execution_count": 166,
     "metadata": {},
     "output_type": "execute_result"
    }
   ],
   "source": [
    "df6.sample(5)"
   ]
  },
  {
   "cell_type": "code",
   "execution_count": 160,
   "metadata": {},
   "outputs": [],
   "source": [
    "df6['id'] = df6['id'].apply(productos)"
   ]
  },
  {
   "cell_type": "code",
   "execution_count": 168,
   "metadata": {},
   "outputs": [
    {
     "name": "stdout",
     "output_type": "stream",
     "text": [
      "id                  0\n",
      "marca               2\n",
      "nombre              2\n",
      "presentacion        2\n",
      "categoria1      72034\n",
      "categoria2      72034\n",
      "categoria3      72034\n",
      "dtype: int64\n",
      "id                  0\n",
      "marca               2\n",
      "nombre              2\n",
      "presentacion        2\n",
      "categoria1      72034\n",
      "categoria2      72034\n",
      "categoria3      72034\n",
      "dtype: int64\n",
      "Cantidad de Id:  72038\n",
      "Id Distintos  72038\n"
     ]
    }
   ],
   "source": [
    "\n",
    "print(df6.isnull().sum())\n",
    "print(df6.isna().sum())\n",
    "print('Cantidad de Id: ',df6['id'].count())\n",
    "print('Id Distintos ',len(df6['id'].unique()))"
   ]
  },
  {
   "cell_type": "code",
   "execution_count": 172,
   "metadata": {},
   "outputs": [],
   "source": [
    "df6 = df6.rename(columns={'id':'sucursal_id'})"
   ]
  },
  {
   "cell_type": "code",
   "execution_count": 156,
   "metadata": {},
   "outputs": [
    {
     "ename": "AttributeError",
     "evalue": "'function' object has no attribute 'dropna'",
     "output_type": "error",
     "traceback": [
      "\u001b[0;31m---------------------------------------------------------------------------\u001b[0m",
      "\u001b[0;31mAttributeError\u001b[0m                            Traceback (most recent call last)",
      "\u001b[0;32m<ipython-input-156-55e0040aabc3>\u001b[0m in \u001b[0;36m<module>\u001b[0;34m\u001b[0m\n\u001b[0;32m----> 1\u001b[0;31m \u001b[0mdf6\u001b[0m \u001b[0;34m=\u001b[0m \u001b[0mdf6\u001b[0m\u001b[0;34m.\u001b[0m\u001b[0mdropna\u001b[0m\u001b[0;34m\u001b[0m\u001b[0;34m\u001b[0m\u001b[0m\n\u001b[0m",
      "\u001b[0;31mAttributeError\u001b[0m: 'function' object has no attribute 'dropna'"
     ]
    }
   ],
   "source": []
  },
  {
   "cell_type": "code",
   "execution_count": 173,
   "metadata": {},
   "outputs": [
    {
     "data": {
      "text/html": [
       "<div>\n",
       "<style scoped>\n",
       "    .dataframe tbody tr th:only-of-type {\n",
       "        vertical-align: middle;\n",
       "    }\n",
       "\n",
       "    .dataframe tbody tr th {\n",
       "        vertical-align: top;\n",
       "    }\n",
       "\n",
       "    .dataframe thead th {\n",
       "        text-align: right;\n",
       "    }\n",
       "</style>\n",
       "<table border=\"1\" class=\"dataframe\">\n",
       "  <thead>\n",
       "    <tr style=\"text-align: right;\">\n",
       "      <th></th>\n",
       "      <th>sucursal_id</th>\n",
       "      <th>marca</th>\n",
       "      <th>nombre</th>\n",
       "      <th>presentacion</th>\n",
       "      <th>categoria1</th>\n",
       "      <th>categoria2</th>\n",
       "      <th>categoria3</th>\n",
       "    </tr>\n",
       "  </thead>\n",
       "  <tbody>\n",
       "    <tr>\n",
       "      <th>19571</th>\n",
       "      <td>7790080013610</td>\n",
       "      <td>SANCOR</td>\n",
       "      <td>Queso Reggianito Corazon de Horma Sancor 230 Gr</td>\n",
       "      <td>230.0 gr</td>\n",
       "      <td>None</td>\n",
       "      <td>None</td>\n",
       "      <td>None</td>\n",
       "    </tr>\n",
       "    <tr>\n",
       "      <th>25092</th>\n",
       "      <td>7790520011831</td>\n",
       "      <td>MR MÚSCULO</td>\n",
       "      <td>Limpiador de Vidrio Multiuso Formula Activa Do...</td>\n",
       "      <td>450.0 cc</td>\n",
       "      <td>None</td>\n",
       "      <td>None</td>\n",
       "      <td>None</td>\n",
       "    </tr>\n",
       "    <tr>\n",
       "      <th>49712</th>\n",
       "      <td>7795323002574</td>\n",
       "      <td>NUTRILÓN</td>\n",
       "      <td>Leche Nutrilon 4 Profutura 1 Lt</td>\n",
       "      <td>1.0 lt</td>\n",
       "      <td>None</td>\n",
       "      <td>None</td>\n",
       "      <td>None</td>\n",
       "    </tr>\n",
       "  </tbody>\n",
       "</table>\n",
       "</div>"
      ],
      "text/plain": [
       "         sucursal_id       marca  \\\n",
       "19571  7790080013610      SANCOR   \n",
       "25092  7790520011831  MR MÚSCULO   \n",
       "49712  7795323002574    NUTRILÓN   \n",
       "\n",
       "                                                  nombre presentacion  \\\n",
       "19571    Queso Reggianito Corazon de Horma Sancor 230 Gr     230.0 gr   \n",
       "25092  Limpiador de Vidrio Multiuso Formula Activa Do...     450.0 cc   \n",
       "49712                    Leche Nutrilon 4 Profutura 1 Lt       1.0 lt   \n",
       "\n",
       "      categoria1 categoria2 categoria3  \n",
       "19571       None       None       None  \n",
       "25092       None       None       None  \n",
       "49712       None       None       None  "
      ]
     },
     "execution_count": 173,
     "metadata": {},
     "output_type": "execute_result"
    }
   ],
   "source": [
    "df6.sample(3)"
   ]
  },
  {
   "cell_type": "code",
   "execution_count": 153,
   "metadata": {},
   "outputs": [
    {
     "ename": "AttributeError",
     "evalue": "'function' object has no attribute 'isnull'",
     "output_type": "error",
     "traceback": [
      "\u001b[0;31m---------------------------------------------------------------------------\u001b[0m",
      "\u001b[0;31mAttributeError\u001b[0m                            Traceback (most recent call last)",
      "\u001b[0;32m<ipython-input-153-4a1f4afd0f43>\u001b[0m in \u001b[0;36m<module>\u001b[0;34m\u001b[0m\n\u001b[0;32m----> 1\u001b[0;31m \u001b[0mdf6\u001b[0m\u001b[0;34m.\u001b[0m\u001b[0misnull\u001b[0m\u001b[0;34m(\u001b[0m\u001b[0;34m)\u001b[0m\u001b[0;34m.\u001b[0m\u001b[0msum\u001b[0m\u001b[0;34m(\u001b[0m\u001b[0;34m)\u001b[0m\u001b[0;34m\u001b[0m\u001b[0;34m\u001b[0m\u001b[0m\n\u001b[0m",
      "\u001b[0;31mAttributeError\u001b[0m: 'function' object has no attribute 'isnull'"
     ]
    }
   ],
   "source": [
    "df6.isnull().sum()"
   ]
  },
  {
   "cell_type": "code",
   "execution_count": 40,
   "metadata": {},
   "outputs": [
    {
     "data": {
      "text/plain": [
       "<bound method DataFrame.drop_duplicates of                   id        marca  \\\n",
       "0      0000000001663   LA ANÓNIMA   \n",
       "1      0000000002288   LA ANÓNIMA   \n",
       "2      0000000205870    SIN MARCA   \n",
       "3      0000000205894    SIN MARCA   \n",
       "4      0000000205955    SIN MARCA   \n",
       "...              ...          ...   \n",
       "72033  9569753142128  DELI-SITAS    \n",
       "72034  9795403001143         MAYO   \n",
       "72035  9990385651922         DANA   \n",
       "72036  9990385651939         DANA   \n",
       "72037  9990385651946         DANA   \n",
       "\n",
       "                                                  nombre presentacion  \\\n",
       "0                        Radicheta Atada La Anonima 1 Un       1.0 un   \n",
       "1                          Perejil Atado La Anonima 1 Un       1.0 un   \n",
       "2                                       Ojo de Bife 1 Kg       1.0 kg   \n",
       "3                      Milanesa de Peceto Novillito 1 Kg       1.0 kg   \n",
       "4                             Chiquizuela Novillito 1 Kg       1.0 kg   \n",
       "...                                                  ...          ...   \n",
       "72033  Milhojas Cobertura de Chocolate Blanco Deli-Si...     500.0 gr   \n",
       "72034                           Mini Pizzetas Mayo 12 Un      12.0 un   \n",
       "72035                 Te Negro en Hebras Lata Dana 50 Gr      50.0 gr   \n",
       "72036                 Te Verde en Hebras Lata Dana 50 Gr      50.0 gr   \n",
       "72037            Yerba Mate Aromatizada Lata Dana 150 Gr     150.0 gr   \n",
       "\n",
       "      categoria1 categoria2 categoria3  \n",
       "0           None       None       None  \n",
       "1           None       None       None  \n",
       "2           None       None       None  \n",
       "3           None       None       None  \n",
       "4           None       None       None  \n",
       "...          ...        ...        ...  \n",
       "72033       None       None       None  \n",
       "72034       None       None       None  \n",
       "72035       None       None       None  \n",
       "72036       None       None       None  \n",
       "72037       None       None       None  \n",
       "\n",
       "[72038 rows x 7 columns]>"
      ]
     },
     "execution_count": 40,
     "metadata": {},
     "output_type": "execute_result"
    }
   ],
   "source": [
    "(df6.drop_duplicates)"
   ]
  },
  {
   "cell_type": "code",
   "execution_count": 41,
   "metadata": {},
   "outputs": [],
   "source": [
    "df7 = pd.read_csv('/dataset/Dataset/sucursal.csv')"
   ]
  },
  {
   "cell_type": "code",
   "execution_count": 42,
   "metadata": {},
   "outputs": [
    {
     "data": {
      "text/plain": [
       "id                      object\n",
       "comercioId               int64\n",
       "banderaId                int64\n",
       "banderaDescripcion      object\n",
       "comercioRazonSocial     object\n",
       "provincia               object\n",
       "localidad               object\n",
       "direccion               object\n",
       "lat                    float64\n",
       "lng                    float64\n",
       "sucursalNombre          object\n",
       "sucursalTipo            object\n",
       "dtype: object"
      ]
     },
     "execution_count": 42,
     "metadata": {},
     "output_type": "execute_result"
    }
   ],
   "source": [
    "df7.dtypes"
   ]
  },
  {
   "cell_type": "code",
   "execution_count": 43,
   "metadata": {},
   "outputs": [
    {
     "data": {
      "text/html": [
       "<div>\n",
       "<style scoped>\n",
       "    .dataframe tbody tr th:only-of-type {\n",
       "        vertical-align: middle;\n",
       "    }\n",
       "\n",
       "    .dataframe tbody tr th {\n",
       "        vertical-align: top;\n",
       "    }\n",
       "\n",
       "    .dataframe thead th {\n",
       "        text-align: right;\n",
       "    }\n",
       "</style>\n",
       "<table border=\"1\" class=\"dataframe\">\n",
       "  <thead>\n",
       "    <tr style=\"text-align: right;\">\n",
       "      <th></th>\n",
       "      <th>id</th>\n",
       "      <th>comercioId</th>\n",
       "      <th>banderaId</th>\n",
       "      <th>banderaDescripcion</th>\n",
       "      <th>comercioRazonSocial</th>\n",
       "      <th>provincia</th>\n",
       "      <th>localidad</th>\n",
       "      <th>direccion</th>\n",
       "      <th>lat</th>\n",
       "      <th>lng</th>\n",
       "      <th>sucursalNombre</th>\n",
       "      <th>sucursalTipo</th>\n",
       "    </tr>\n",
       "  </thead>\n",
       "  <tbody>\n",
       "    <tr>\n",
       "      <th>1609</th>\n",
       "      <td>2-1-008</td>\n",
       "      <td>2</td>\n",
       "      <td>1</td>\n",
       "      <td>La Anonima</td>\n",
       "      <td>S.A. Importadora y Exportadora de la Patagonia</td>\n",
       "      <td>AR-R</td>\n",
       "      <td>San Carlos de Bariloche</td>\n",
       "      <td>Gdor.Quaglia 311</td>\n",
       "      <td>-41.135450</td>\n",
       "      <td>-71.308740</td>\n",
       "      <td>BARILOCHE</td>\n",
       "      <td>Supermercado</td>\n",
       "    </tr>\n",
       "    <tr>\n",
       "      <th>1096</th>\n",
       "      <td>15-1-1802</td>\n",
       "      <td>15</td>\n",
       "      <td>1</td>\n",
       "      <td>Supermercados DIA</td>\n",
       "      <td>DIA Argentina S.A</td>\n",
       "      <td>AR-A</td>\n",
       "      <td>Salta</td>\n",
       "      <td>Av  Jose Contreras 0</td>\n",
       "      <td>-24.811541</td>\n",
       "      <td>-65.426427</td>\n",
       "      <td>1802 - Salta</td>\n",
       "      <td>Supermercado</td>\n",
       "    </tr>\n",
       "    <tr>\n",
       "      <th>2140</th>\n",
       "      <td>9-1-51</td>\n",
       "      <td>9</td>\n",
       "      <td>1</td>\n",
       "      <td>Vea</td>\n",
       "      <td>Jumbo Retail Argentina S.A.</td>\n",
       "      <td>AR-B</td>\n",
       "      <td>NECOCHEA</td>\n",
       "      <td>Av. 59 Esq. Calle 38 1660</td>\n",
       "      <td>-38.561100</td>\n",
       "      <td>-58.730500</td>\n",
       "      <td>NECOCHEA</td>\n",
       "      <td>Supermercado</td>\n",
       "    </tr>\n",
       "    <tr>\n",
       "      <th>2021</th>\n",
       "      <td>7-1-40</td>\n",
       "      <td>7</td>\n",
       "      <td>1</td>\n",
       "      <td>Supermercados Cordiez</td>\n",
       "      <td>Cyre S.A.</td>\n",
       "      <td>AR-X</td>\n",
       "      <td>CORDOBA</td>\n",
       "      <td>Av. Velez Sarsfield 334</td>\n",
       "      <td>-31.419003</td>\n",
       "      <td>-64.188666</td>\n",
       "      <td>Cordiez 40</td>\n",
       "      <td>Supermercado</td>\n",
       "    </tr>\n",
       "    <tr>\n",
       "      <th>501</th>\n",
       "      <td>10-3-657</td>\n",
       "      <td>10</td>\n",
       "      <td>3</td>\n",
       "      <td>Express</td>\n",
       "      <td>INC S.A.</td>\n",
       "      <td>AR-C</td>\n",
       "      <td>Ciudad Autónoma de Buenos Aires</td>\n",
       "      <td>Montiel 1718</td>\n",
       "      <td>-34.657114</td>\n",
       "      <td>-58.518180</td>\n",
       "      <td>Montiel 1718</td>\n",
       "      <td>Autoservicio</td>\n",
       "    </tr>\n",
       "    <tr>\n",
       "      <th>707</th>\n",
       "      <td>12-1-204</td>\n",
       "      <td>12</td>\n",
       "      <td>1</td>\n",
       "      <td>COTO CICSA</td>\n",
       "      <td>Coto Centro Integral de Comercialización S.A.</td>\n",
       "      <td>AR-B</td>\n",
       "      <td>General Lavalle</td>\n",
       "      <td>Ruta 11 Km 330</td>\n",
       "      <td>-36.582166</td>\n",
       "      <td>-56.714637</td>\n",
       "      <td>MAR DEL TUYU</td>\n",
       "      <td>Hipermercado</td>\n",
       "    </tr>\n",
       "    <tr>\n",
       "      <th>1145</th>\n",
       "      <td>15-1-238</td>\n",
       "      <td>15</td>\n",
       "      <td>1</td>\n",
       "      <td>Supermercados DIA</td>\n",
       "      <td>DIA Argentina S.A</td>\n",
       "      <td>AR-C</td>\n",
       "      <td>Capital Federal</td>\n",
       "      <td>Av Rivadavia 872</td>\n",
       "      <td>-34.639169</td>\n",
       "      <td>-58.517101</td>\n",
       "      <td>238 - Liniers</td>\n",
       "      <td>Autoservicio</td>\n",
       "    </tr>\n",
       "    <tr>\n",
       "      <th>71</th>\n",
       "      <td>10-1-47</td>\n",
       "      <td>10</td>\n",
       "      <td>1</td>\n",
       "      <td>Hipermercado Carrefour</td>\n",
       "      <td>INC S.A.</td>\n",
       "      <td>AR-B</td>\n",
       "      <td>Martín Coronado</td>\n",
       "      <td>Av. Pdte. J. D. Perón 7055</td>\n",
       "      <td>-34.587243</td>\n",
       "      <td>-58.593697</td>\n",
       "      <td>Martín Coronado</td>\n",
       "      <td>Hipermercado</td>\n",
       "    </tr>\n",
       "    <tr>\n",
       "      <th>2221</th>\n",
       "      <td>9-1-943</td>\n",
       "      <td>9</td>\n",
       "      <td>1</td>\n",
       "      <td>Vea</td>\n",
       "      <td>Jumbo Retail Argentina S.A.</td>\n",
       "      <td>AR-E</td>\n",
       "      <td>PARANA</td>\n",
       "      <td>Avenida Almafuerte Prolong 1670</td>\n",
       "      <td>-31.755100</td>\n",
       "      <td>-60.499300</td>\n",
       "      <td>Paraná</td>\n",
       "      <td>Hipermercado</td>\n",
       "    </tr>\n",
       "    <tr>\n",
       "      <th>2086</th>\n",
       "      <td>9-1-187</td>\n",
       "      <td>9</td>\n",
       "      <td>1</td>\n",
       "      <td>Vea</td>\n",
       "      <td>Jumbo Retail Argentina S.A.</td>\n",
       "      <td>AR-M</td>\n",
       "      <td>MAIPU</td>\n",
       "      <td>Vasquez Padre 328</td>\n",
       "      <td>-32.982400</td>\n",
       "      <td>-68.788300</td>\n",
       "      <td>Vea 20.</td>\n",
       "      <td>Supermercado</td>\n",
       "    </tr>\n",
       "  </tbody>\n",
       "</table>\n",
       "</div>"
      ],
      "text/plain": [
       "             id  comercioId  banderaId      banderaDescripcion  \\\n",
       "1609    2-1-008           2          1              La Anonima   \n",
       "1096  15-1-1802          15          1       Supermercados DIA   \n",
       "2140     9-1-51           9          1                     Vea   \n",
       "2021     7-1-40           7          1   Supermercados Cordiez   \n",
       "501    10-3-657          10          3                 Express   \n",
       "707    12-1-204          12          1              COTO CICSA   \n",
       "1145   15-1-238          15          1       Supermercados DIA   \n",
       "71      10-1-47          10          1  Hipermercado Carrefour   \n",
       "2221    9-1-943           9          1                     Vea   \n",
       "2086    9-1-187           9          1                     Vea   \n",
       "\n",
       "                                 comercioRazonSocial provincia  \\\n",
       "1609  S.A. Importadora y Exportadora de la Patagonia      AR-R   \n",
       "1096                               DIA Argentina S.A      AR-A   \n",
       "2140                     Jumbo Retail Argentina S.A.      AR-B   \n",
       "2021                                       Cyre S.A.      AR-X   \n",
       "501                                         INC S.A.      AR-C   \n",
       "707    Coto Centro Integral de Comercialización S.A.      AR-B   \n",
       "1145                               DIA Argentina S.A      AR-C   \n",
       "71                                          INC S.A.      AR-B   \n",
       "2221                     Jumbo Retail Argentina S.A.      AR-E   \n",
       "2086                     Jumbo Retail Argentina S.A.      AR-M   \n",
       "\n",
       "                            localidad                        direccion  \\\n",
       "1609          San Carlos de Bariloche                 Gdor.Quaglia 311   \n",
       "1096                            Salta             Av  Jose Contreras 0   \n",
       "2140                         NECOCHEA        Av. 59 Esq. Calle 38 1660   \n",
       "2021                          CORDOBA          Av. Velez Sarsfield 334   \n",
       "501   Ciudad Autónoma de Buenos Aires                     Montiel 1718   \n",
       "707                   General Lavalle                   Ruta 11 Km 330   \n",
       "1145                  Capital Federal                 Av Rivadavia 872   \n",
       "71                    Martín Coronado       Av. Pdte. J. D. Perón 7055   \n",
       "2221                           PARANA  Avenida Almafuerte Prolong 1670   \n",
       "2086                            MAIPU                Vasquez Padre 328   \n",
       "\n",
       "            lat        lng   sucursalNombre  sucursalTipo  \n",
       "1609 -41.135450 -71.308740        BARILOCHE  Supermercado  \n",
       "1096 -24.811541 -65.426427     1802 - Salta  Supermercado  \n",
       "2140 -38.561100 -58.730500         NECOCHEA  Supermercado  \n",
       "2021 -31.419003 -64.188666       Cordiez 40  Supermercado  \n",
       "501  -34.657114 -58.518180     Montiel 1718  Autoservicio  \n",
       "707  -36.582166 -56.714637    MAR DEL TUYU   Hipermercado  \n",
       "1145 -34.639169 -58.517101    238 - Liniers  Autoservicio  \n",
       "71   -34.587243 -58.593697  Martín Coronado  Hipermercado  \n",
       "2221 -31.755100 -60.499300           Paraná  Hipermercado  \n",
       "2086 -32.982400 -68.788300          Vea 20.  Supermercado  "
      ]
     },
     "execution_count": 43,
     "metadata": {},
     "output_type": "execute_result"
    }
   ],
   "source": [
    "df7.sample(10)"
   ]
  },
  {
   "cell_type": "code",
   "execution_count": 44,
   "metadata": {},
   "outputs": [],
   "source": [
    "df3 = pd.read_csv('/dataset/Dataset/precios_semana_20200518.txt',header=[0],sep='|' )"
   ]
  },
  {
   "cell_type": "code",
   "execution_count": 45,
   "metadata": {},
   "outputs": [],
   "source": [
    "df3 = df3.dropna()"
   ]
  },
  {
   "cell_type": "code",
   "execution_count": 46,
   "metadata": {},
   "outputs": [],
   "source": [
    "df3['producto_id'] = df3['producto_id'].apply(productos)"
   ]
  },
  {
   "cell_type": "code",
   "execution_count": 140,
   "metadata": {},
   "outputs": [
    {
     "data": {
      "text/plain": [
       "35900.0"
      ]
     },
     "execution_count": 140,
     "metadata": {},
     "output_type": "execute_result"
    }
   ],
   "source": [
    "df3['precio'].max()"
   ]
  },
  {
   "cell_type": "code",
   "execution_count": 141,
   "metadata": {},
   "outputs": [
    {
     "data": {
      "text/html": [
       "<div>\n",
       "<style scoped>\n",
       "    .dataframe tbody tr th:only-of-type {\n",
       "        vertical-align: middle;\n",
       "    }\n",
       "\n",
       "    .dataframe tbody tr th {\n",
       "        vertical-align: top;\n",
       "    }\n",
       "\n",
       "    .dataframe thead th {\n",
       "        text-align: right;\n",
       "    }\n",
       "</style>\n",
       "<table border=\"1\" class=\"dataframe\">\n",
       "  <thead>\n",
       "    <tr style=\"text-align: right;\">\n",
       "      <th></th>\n",
       "      <th>precio</th>\n",
       "    </tr>\n",
       "  </thead>\n",
       "  <tbody>\n",
       "    <tr>\n",
       "      <th>count</th>\n",
       "      <td>413331.000000</td>\n",
       "    </tr>\n",
       "    <tr>\n",
       "      <th>mean</th>\n",
       "      <td>185.769702</td>\n",
       "    </tr>\n",
       "    <tr>\n",
       "      <th>std</th>\n",
       "      <td>376.164471</td>\n",
       "    </tr>\n",
       "    <tr>\n",
       "      <th>min</th>\n",
       "      <td>0.350000</td>\n",
       "    </tr>\n",
       "    <tr>\n",
       "      <th>25%</th>\n",
       "      <td>67.000000</td>\n",
       "    </tr>\n",
       "    <tr>\n",
       "      <th>50%</th>\n",
       "      <td>119.000000</td>\n",
       "    </tr>\n",
       "    <tr>\n",
       "      <th>75%</th>\n",
       "      <td>214.500000</td>\n",
       "    </tr>\n",
       "    <tr>\n",
       "      <th>max</th>\n",
       "      <td>35900.000000</td>\n",
       "    </tr>\n",
       "  </tbody>\n",
       "</table>\n",
       "</div>"
      ],
      "text/plain": [
       "              precio\n",
       "count  413331.000000\n",
       "mean      185.769702\n",
       "std       376.164471\n",
       "min         0.350000\n",
       "25%        67.000000\n",
       "50%       119.000000\n",
       "75%       214.500000\n",
       "max     35900.000000"
      ]
     },
     "execution_count": 141,
     "metadata": {},
     "output_type": "execute_result"
    }
   ],
   "source": [
    "df3.describe()"
   ]
  },
  {
   "cell_type": "code",
   "execution_count": 143,
   "metadata": {},
   "outputs": [
    {
     "data": {
      "text/html": [
       "<div>\n",
       "<style scoped>\n",
       "    .dataframe tbody tr th:only-of-type {\n",
       "        vertical-align: middle;\n",
       "    }\n",
       "\n",
       "    .dataframe tbody tr th {\n",
       "        vertical-align: top;\n",
       "    }\n",
       "\n",
       "    .dataframe thead th {\n",
       "        text-align: right;\n",
       "    }\n",
       "</style>\n",
       "<table border=\"1\" class=\"dataframe\">\n",
       "  <thead>\n",
       "    <tr style=\"text-align: right;\">\n",
       "      <th></th>\n",
       "      <th>precio</th>\n",
       "      <th>producto_id</th>\n",
       "      <th>sucursal_id</th>\n",
       "    </tr>\n",
       "  </thead>\n",
       "  <tbody>\n",
       "    <tr>\n",
       "      <th>290005</th>\n",
       "      <td>56.90</td>\n",
       "      <td>7793253001407</td>\n",
       "      <td>46-1-3</td>\n",
       "    </tr>\n",
       "    <tr>\n",
       "      <th>84213</th>\n",
       "      <td>159.95</td>\n",
       "      <td>7790070033154</td>\n",
       "      <td>16-1-702</td>\n",
       "    </tr>\n",
       "    <tr>\n",
       "      <th>176247</th>\n",
       "      <td>177.00</td>\n",
       "      <td>7790773018229</td>\n",
       "      <td>10-1-9</td>\n",
       "    </tr>\n",
       "    <tr>\n",
       "      <th>60240</th>\n",
       "      <td>41.40</td>\n",
       "      <td>7622300829629</td>\n",
       "      <td>10-3-463</td>\n",
       "    </tr>\n",
       "    <tr>\n",
       "      <th>386750</th>\n",
       "      <td>62.00</td>\n",
       "      <td>7798187760154</td>\n",
       "      <td>10-1-48</td>\n",
       "    </tr>\n",
       "  </tbody>\n",
       "</table>\n",
       "</div>"
      ],
      "text/plain": [
       "        precio    producto_id sucursal_id\n",
       "290005   56.90  7793253001407      46-1-3\n",
       "84213   159.95  7790070033154    16-1-702\n",
       "176247  177.00  7790773018229      10-1-9\n",
       "60240    41.40  7622300829629    10-3-463\n",
       "386750   62.00  7798187760154     10-1-48"
      ]
     },
     "execution_count": 143,
     "metadata": {},
     "output_type": "execute_result"
    }
   ],
   "source": [
    "df8.sample(5)"
   ]
  },
  {
   "cell_type": "code",
   "execution_count": 174,
   "metadata": {},
   "outputs": [
    {
     "name": "stdout",
     "output_type": "stream",
     "text": [
      "root\n",
      " |-- sucursal_id: string (nullable = true)\n",
      " |-- marca: string (nullable = true)\n",
      " |-- nombre: string (nullable = true)\n",
      " |-- presentacion: string (nullable = true)\n",
      " |-- categoria1: string (nullable = true)\n",
      " |-- categoria2: string (nullable = true)\n",
      " |-- categoria3: string (nullable = true)\n",
      "\n"
     ]
    }
   ],
   "source": [
    "sparkDF1=spark.createDataFrame(df6) \n",
    "sparkDF1.printSchema()"
   ]
  },
  {
   "cell_type": "code",
   "execution_count": 175,
   "metadata": {},
   "outputs": [
    {
     "name": "stdout",
     "output_type": "stream",
     "text": [
      "root\n",
      " |-- id: string (nullable = true)\n",
      " |-- comercioId: long (nullable = true)\n",
      " |-- banderaId: long (nullable = true)\n",
      " |-- banderaDescripcion: string (nullable = true)\n",
      " |-- comercioRazonSocial: string (nullable = true)\n",
      " |-- provincia: string (nullable = true)\n",
      " |-- localidad: string (nullable = true)\n",
      " |-- direccion: string (nullable = true)\n",
      " |-- lat: double (nullable = true)\n",
      " |-- lng: double (nullable = true)\n",
      " |-- sucursalNombre: string (nullable = true)\n",
      " |-- sucursalTipo: string (nullable = true)\n",
      "\n"
     ]
    }
   ],
   "source": [
    "sparkDF2=spark.createDataFrame(df7) \n",
    "sparkDF2.printSchema()"
   ]
  },
  {
   "cell_type": "code",
   "execution_count": 130,
   "metadata": {},
   "outputs": [],
   "source": [
    "sparkDF=spark.createDataFrame(df8) \n"
   ]
  },
  {
   "cell_type": "code",
   "execution_count": 131,
   "metadata": {},
   "outputs": [
    {
     "name": "stdout",
     "output_type": "stream",
     "text": [
      "root\n",
      " |-- precio: double (nullable = true)\n",
      " |-- producto_id: string (nullable = true)\n",
      " |-- sucursal_id: string (nullable = true)\n",
      "\n"
     ]
    }
   ],
   "source": [
    "sparkDF.printSchema()\n"
   ]
  },
  {
   "cell_type": "code",
   "execution_count": 132,
   "metadata": {},
   "outputs": [],
   "source": [
    "sparkDF.select(\"precio\", \"producto_id\", \"sucursal_id\") \\\n",
    "    .write \\\n",
    "    .format(\"jdbc\") \\\n",
    "    .option(\"url\", \"jdbc:postgresql://postgres/henry\") \\\n",
    "    .option(\"dbtable\", \"precios3\") \\\n",
    "    .option(\"user\", \"matias\") \\\n",
    "    .option(\"password\", \"matias\") \\\n",
    "    .option(\"driver\", \"org.postgresql.Driver\") \\\n",
    "    .mode('append') \\\n",
    "    .save()"
   ]
  },
  {
   "cell_type": "code",
   "execution_count": 176,
   "metadata": {},
   "outputs": [],
   "source": [
    "sparkDF1 \\\n",
    "    .write \\\n",
    "    .format(\"jdbc\") \\\n",
    "    .option(\"url\", \"jdbc:postgresql://postgres/henry\") \\\n",
    "    .option(\"dbtable\", \"productos\") \\\n",
    "    .option(\"user\", \"matias\") \\\n",
    "    .option(\"password\", \"matias\") \\\n",
    "    .option(\"driver\", \"org.postgresql.Driver\") \\\n",
    "    .mode('append') \\\n",
    "    .save()"
   ]
  },
  {
   "cell_type": "code",
   "execution_count": 177,
   "metadata": {},
   "outputs": [],
   "source": [
    "sparkDF2 \\\n",
    "    .write \\\n",
    "    .format(\"jdbc\") \\\n",
    "    .option(\"url\", \"jdbc:postgresql://postgres/henry\") \\\n",
    "    .option(\"dbtable\", \"sucursales\") \\\n",
    "    .option(\"user\", \"matias\") \\\n",
    "    .option(\"password\", \"matias\") \\\n",
    "    .option(\"driver\", \"org.postgresql.Driver\") \\\n",
    "    .mode('append') \\\n",
    "    .save()"
   ]
  }
 ],
 "metadata": {
  "kernelspec": {
   "display_name": "Python 3",
   "language": "python",
   "name": "python3"
  },
  "language_info": {
   "codemirror_mode": {
    "name": "ipython",
    "version": 3
   },
   "file_extension": ".py",
   "mimetype": "text/x-python",
   "name": "python",
   "nbconvert_exporter": "python",
   "pygments_lexer": "ipython3",
   "version": "3.7.3"
  }
 },
 "nbformat": 4,
 "nbformat_minor": 5
}
