{
 "cells": [
  {
   "cell_type": "markdown",
   "id": "0e5a9052",
   "metadata": {},
   "source": [
    "Carga de librerias"
   ]
  },
  {
   "cell_type": "code",
   "execution_count": 1,
   "metadata": {},
   "outputs": [],
   "source": [
    "#importamos las libresias\n",
    "import findspark\n",
    "from pyspark.sql import SparkSession\n",
    "import pandas as pd\n",
    "import sys\n",
    "from pyspark.sql import SparkSession\n",
    "from pyspark.sql.types import StringType\n",
    "from pyspark.sql import functions as F\n",
    "from pyspark.sql.window import Window\n",
    "\n",
    "findspark.add_jars('/app/postgresql-42.1.4.jar')\n",
    "findspark.init()\n",
    "\n"
   ]
  },
  {
   "cell_type": "markdown",
   "id": "491f00ab",
   "metadata": {},
   "source": [
    "Cluester Spark"
   ]
  },
  {
   "cell_type": "code",
   "execution_count": 2,
   "metadata": {},
   "outputs": [],
   "source": [
    "#Creamos el Cluster \n",
    "spark = SparkSession.builder.appName(\"Henry:ETL\").getOrCreate()\n",
    "spark"
   ]
  },
  {
   "cell_type": "markdown",
   "id": "76098355",
   "metadata": {},
   "source": [
    "Proceso ETL"
   ]
  },
  {
   "cell_type": "code",
   "execution_count": 5,
   "metadata": {},
   "outputs": [],
   "source": [
    "#Cargamos el primer dataset con pandas csv\n",
    "\n",
    "df1 = pd.read_csv('/dataset/Dataset/precios_semana_20200413.csv', encoding='UTF-16')"
   ]
  },
  {
   "cell_type": "code",
   "execution_count": 6,
   "metadata": {},
   "outputs": [
    {
     "name": "stdout",
     "output_type": "stream",
     "text": [
      "        precio    producto_id sucursal_id\n",
      "268965   136.0  7791351001060     2-1-032\n",
      "213582    87.0  7790900030476     10-1-48\n",
      "185903    68.5  7790580660000   11-2-1108\n",
      "360580    73.0  7794000999374     13-1-97\n",
      "118687   197.0  7790150080115     9-1-910\n",
      "precio         float64\n",
      "producto_id     object\n",
      "sucursal_id     object\n",
      "dtype: object\n"
     ]
    }
   ],
   "source": [
    "#Verificamos si se cargo correctamente\n",
    "\n",
    "print(df1.sample(5))\n",
    "print(df1.dtypes)"
   ]
  },
  {
   "cell_type": "code",
   "execution_count": 7,
   "metadata": {},
   "outputs": [
    {
     "data": {
      "text/plain": [
       "precio         13\n",
       "producto_id    15\n",
       "sucursal_id    15\n",
       "dtype: int64"
      ]
     },
     "execution_count": 7,
     "metadata": {},
     "output_type": "execute_result"
    }
   ],
   "source": [
    "#Verificamos la cantidad de nulos en cada columna\n",
    "df1.isnull().sum()"
   ]
  },
  {
   "cell_type": "code",
   "execution_count": 8,
   "metadata": {},
   "outputs": [],
   "source": [
    "#Eliminamos los valores null\n",
    "\n",
    "df1 = df1.dropna()"
   ]
  },
  {
   "cell_type": "code",
   "execution_count": 9,
   "metadata": {},
   "outputs": [],
   "source": [
    "#Se define la funcion productos para normalizar los valos a 13 caracteres\n",
    "def productos(valor):\n",
    "    valor = str(valor)\n",
    "    while (len(valor)) != 13:\n",
    "        if len(valor) > 13:\n",
    "            valor = valor[-13:]\n",
    "            pass\n",
    "        else:\n",
    "            valor = \"0\"+valor\n",
    "    \n",
    "    return valor"
   ]
  },
  {
   "cell_type": "code",
   "execution_count": 10,
   "metadata": {},
   "outputs": [],
   "source": [
    "#aplicacamos la funcion a la columna producto_id\n",
    "df1['producto_id'] = df1['producto_id'].apply(productos)"
   ]
  },
  {
   "cell_type": "code",
   "execution_count": 11,
   "metadata": {},
   "outputs": [
    {
     "data": {
      "text/html": [
       "<div>\n",
       "<style scoped>\n",
       "    .dataframe tbody tr th:only-of-type {\n",
       "        vertical-align: middle;\n",
       "    }\n",
       "\n",
       "    .dataframe tbody tr th {\n",
       "        vertical-align: top;\n",
       "    }\n",
       "\n",
       "    .dataframe thead th {\n",
       "        text-align: right;\n",
       "    }\n",
       "</style>\n",
       "<table border=\"1\" class=\"dataframe\">\n",
       "  <thead>\n",
       "    <tr style=\"text-align: right;\">\n",
       "      <th></th>\n",
       "      <th>precio</th>\n",
       "      <th>producto_id</th>\n",
       "      <th>sucursal_id</th>\n",
       "    </tr>\n",
       "  </thead>\n",
       "  <tbody>\n",
       "    <tr>\n",
       "      <th>458673</th>\n",
       "      <td>263.75</td>\n",
       "      <td>7896009419294</td>\n",
       "      <td>16-1-1502</td>\n",
       "    </tr>\n",
       "    <tr>\n",
       "      <th>75593</th>\n",
       "      <td>321.25</td>\n",
       "      <td>7702018072361</td>\n",
       "      <td>6-1-9</td>\n",
       "    </tr>\n",
       "    <tr>\n",
       "      <th>456637</th>\n",
       "      <td>74.00</td>\n",
       "      <td>7891150058132</td>\n",
       "      <td>10-1-44</td>\n",
       "    </tr>\n",
       "    <tr>\n",
       "      <th>230190</th>\n",
       "      <td>144.00</td>\n",
       "      <td>7791130136365</td>\n",
       "      <td>9-1-674</td>\n",
       "    </tr>\n",
       "    <tr>\n",
       "      <th>450221</th>\n",
       "      <td>475.00</td>\n",
       "      <td>7891010976262</td>\n",
       "      <td>10-1-25</td>\n",
       "    </tr>\n",
       "    <tr>\n",
       "      <th>363587</th>\n",
       "      <td>86.90</td>\n",
       "      <td>7794440005352</td>\n",
       "      <td>11-5-3613</td>\n",
       "    </tr>\n",
       "    <tr>\n",
       "      <th>428977</th>\n",
       "      <td>117.00</td>\n",
       "      <td>7798143356162</td>\n",
       "      <td>10-2-144</td>\n",
       "    </tr>\n",
       "    <tr>\n",
       "      <th>259078</th>\n",
       "      <td>361.00</td>\n",
       "      <td>7791293034768</td>\n",
       "      <td>10-1-25</td>\n",
       "    </tr>\n",
       "    <tr>\n",
       "      <th>451219</th>\n",
       "      <td>36.70</td>\n",
       "      <td>7891024034125</td>\n",
       "      <td>10-2-177</td>\n",
       "    </tr>\n",
       "    <tr>\n",
       "      <th>157637</th>\n",
       "      <td>137.00</td>\n",
       "      <td>7790520004321</td>\n",
       "      <td>9-3-5626</td>\n",
       "    </tr>\n",
       "    <tr>\n",
       "      <th>288486</th>\n",
       "      <td>9.90</td>\n",
       "      <td>7791866003801</td>\n",
       "      <td>50-1-2</td>\n",
       "    </tr>\n",
       "    <tr>\n",
       "      <th>66036</th>\n",
       "      <td>18.30</td>\n",
       "      <td>7622210813459</td>\n",
       "      <td>10-1-58</td>\n",
       "    </tr>\n",
       "    <tr>\n",
       "      <th>295834</th>\n",
       "      <td>178.40</td>\n",
       "      <td>7792129000759</td>\n",
       "      <td>11-2-1015</td>\n",
       "    </tr>\n",
       "    <tr>\n",
       "      <th>163162</th>\n",
       "      <td>209.00</td>\n",
       "      <td>7790520011930</td>\n",
       "      <td>9-1-150</td>\n",
       "    </tr>\n",
       "    <tr>\n",
       "      <th>25991</th>\n",
       "      <td>148.00</td>\n",
       "      <td>4005808846283</td>\n",
       "      <td>10-2-114</td>\n",
       "    </tr>\n",
       "    <tr>\n",
       "      <th>290573</th>\n",
       "      <td>101.50</td>\n",
       "      <td>7791905003694</td>\n",
       "      <td>11-2-1067</td>\n",
       "    </tr>\n",
       "    <tr>\n",
       "      <th>392845</th>\n",
       "      <td>217.00</td>\n",
       "      <td>7798008292222</td>\n",
       "      <td>2-1-141</td>\n",
       "    </tr>\n",
       "    <tr>\n",
       "      <th>295100</th>\n",
       "      <td>101.00</td>\n",
       "      <td>7792070001126</td>\n",
       "      <td>13-1-130</td>\n",
       "    </tr>\n",
       "    <tr>\n",
       "      <th>7923</th>\n",
       "      <td>139.00</td>\n",
       "      <td>0070330731745</td>\n",
       "      <td>10-1-29</td>\n",
       "    </tr>\n",
       "    <tr>\n",
       "      <th>187894</th>\n",
       "      <td>70.13</td>\n",
       "      <td>7790598012167</td>\n",
       "      <td>47-1-1</td>\n",
       "    </tr>\n",
       "  </tbody>\n",
       "</table>\n",
       "</div>"
      ],
      "text/plain": [
       "        precio    producto_id sucursal_id\n",
       "458673  263.75  7896009419294   16-1-1502\n",
       "75593   321.25  7702018072361       6-1-9\n",
       "456637   74.00  7891150058132     10-1-44\n",
       "230190  144.00  7791130136365     9-1-674\n",
       "450221  475.00  7891010976262     10-1-25\n",
       "363587   86.90  7794440005352   11-5-3613\n",
       "428977  117.00  7798143356162    10-2-144\n",
       "259078  361.00  7791293034768     10-1-25\n",
       "451219   36.70  7891024034125    10-2-177\n",
       "157637  137.00  7790520004321    9-3-5626\n",
       "288486    9.90  7791866003801      50-1-2\n",
       "66036    18.30  7622210813459     10-1-58\n",
       "295834  178.40  7792129000759   11-2-1015\n",
       "163162  209.00  7790520011930     9-1-150\n",
       "25991   148.00  4005808846283    10-2-114\n",
       "290573  101.50  7791905003694   11-2-1067\n",
       "392845  217.00  7798008292222     2-1-141\n",
       "295100  101.00  7792070001126    13-1-130\n",
       "7923    139.00  0070330731745     10-1-29\n",
       "187894   70.13  7790598012167      47-1-1"
      ]
     },
     "execution_count": 11,
     "metadata": {},
     "output_type": "execute_result"
    }
   ],
   "source": [
    "#Verificamamos la normalizacion de la columna 'producto_id'\n",
    "df1.sample(20)"
   ]
  },
  {
   "cell_type": "code",
   "execution_count": 12,
   "metadata": {},
   "outputs": [],
   "source": [
    "#Carga segundo Dataset\n",
    "df2 = pd.read_json('/dataset/Dataset/precios_semana_20200503.json')"
   ]
  },
  {
   "cell_type": "code",
   "execution_count": 13,
   "metadata": {},
   "outputs": [
    {
     "name": "stdout",
     "output_type": "stream",
     "text": [
      "   precio    producto_id sucursal_id\n",
      "0    29.9  0000000002288     2-1-187\n",
      "1    39.9  0000000002288     2-3-247\n",
      "2  499.99  0000000205870     9-1-685\n",
      "3  539.99  0000000205870      9-2-22\n",
      "4  519.99  0000000205870      9-2-59\n",
      "precio         object\n",
      "producto_id    object\n",
      "sucursal_id    object\n",
      "dtype: object\n"
     ]
    }
   ],
   "source": [
    "#Verificamos la carga\n",
    "print(df2.head())\n",
    "print(df2.dtypes)"
   ]
  },
  {
   "cell_type": "code",
   "execution_count": 14,
   "metadata": {},
   "outputs": [
    {
     "data": {
      "text/plain": [
       "precio         0\n",
       "producto_id    0\n",
       "sucursal_id    0\n",
       "dtype: int64"
      ]
     },
     "execution_count": 14,
     "metadata": {},
     "output_type": "execute_result"
    }
   ],
   "source": [
    "#Contamos la cantidad de valores faltantes\n",
    "df2.isna().sum()"
   ]
  },
  {
   "cell_type": "code",
   "execution_count": 15,
   "metadata": {},
   "outputs": [
    {
     "data": {
      "text/html": [
       "<div>\n",
       "<style scoped>\n",
       "    .dataframe tbody tr th:only-of-type {\n",
       "        vertical-align: middle;\n",
       "    }\n",
       "\n",
       "    .dataframe tbody tr th {\n",
       "        vertical-align: top;\n",
       "    }\n",
       "\n",
       "    .dataframe thead th {\n",
       "        text-align: right;\n",
       "    }\n",
       "</style>\n",
       "<table border=\"1\" class=\"dataframe\">\n",
       "  <thead>\n",
       "    <tr style=\"text-align: right;\">\n",
       "      <th></th>\n",
       "      <th>precio</th>\n",
       "      <th>producto_id</th>\n",
       "      <th>sucursal_id</th>\n",
       "    </tr>\n",
       "  </thead>\n",
       "  <tbody>\n",
       "    <tr>\n",
       "      <th>97237</th>\n",
       "      <td>75.96</td>\n",
       "      <td>7790130000317</td>\n",
       "      <td>10-2-137</td>\n",
       "    </tr>\n",
       "    <tr>\n",
       "      <th>335179</th>\n",
       "      <td>11.99</td>\n",
       "      <td>7798027250760</td>\n",
       "      <td>25-1-1</td>\n",
       "    </tr>\n",
       "    <tr>\n",
       "      <th>115295</th>\n",
       "      <td>199.9</td>\n",
       "      <td>7790272000954</td>\n",
       "      <td>46-1-3</td>\n",
       "    </tr>\n",
       "    <tr>\n",
       "      <th>290698</th>\n",
       "      <td>305</td>\n",
       "      <td>7793440002194</td>\n",
       "      <td>10-1-210</td>\n",
       "    </tr>\n",
       "    <tr>\n",
       "      <th>212752</th>\n",
       "      <td>59.9</td>\n",
       "      <td>7791293026534</td>\n",
       "      <td>49-1-2</td>\n",
       "    </tr>\n",
       "    <tr>\n",
       "      <th>264635</th>\n",
       "      <td>6.99</td>\n",
       "      <td>7792730018143</td>\n",
       "      <td>25-1-1</td>\n",
       "    </tr>\n",
       "    <tr>\n",
       "      <th>136345</th>\n",
       "      <td>153</td>\n",
       "      <td>7790520010247</td>\n",
       "      <td>10-2-135</td>\n",
       "    </tr>\n",
       "    <tr>\n",
       "      <th>156319</th>\n",
       "      <td>110.75</td>\n",
       "      <td>7790580602406</td>\n",
       "      <td>16-1-1402</td>\n",
       "    </tr>\n",
       "    <tr>\n",
       "      <th>325563</th>\n",
       "      <td>125.9</td>\n",
       "      <td>7796373002750</td>\n",
       "      <td>44-1-8</td>\n",
       "    </tr>\n",
       "    <tr>\n",
       "      <th>78527</th>\n",
       "      <td>65.9</td>\n",
       "      <td>7790045823858</td>\n",
       "      <td>50-1-2</td>\n",
       "    </tr>\n",
       "    <tr>\n",
       "      <th>127322</th>\n",
       "      <td>69.99</td>\n",
       "      <td>7790398000265</td>\n",
       "      <td>25-1-1</td>\n",
       "    </tr>\n",
       "    <tr>\n",
       "      <th>111707</th>\n",
       "      <td>154</td>\n",
       "      <td>7790250019510</td>\n",
       "      <td>9-3-5277</td>\n",
       "    </tr>\n",
       "    <tr>\n",
       "      <th>221175</th>\n",
       "      <td>142</td>\n",
       "      <td>7791293038216</td>\n",
       "      <td>10-2-132</td>\n",
       "    </tr>\n",
       "    <tr>\n",
       "      <th>59542</th>\n",
       "      <td>140</td>\n",
       "      <td>7622300847265</td>\n",
       "      <td>9-1-730</td>\n",
       "    </tr>\n",
       "    <tr>\n",
       "      <th>495</th>\n",
       "      <td>193</td>\n",
       "      <td>0000075027513</td>\n",
       "      <td>10-1-159</td>\n",
       "    </tr>\n",
       "    <tr>\n",
       "      <th>353816</th>\n",
       "      <td>99.99</td>\n",
       "      <td>7798113603012</td>\n",
       "      <td>1-1-7</td>\n",
       "    </tr>\n",
       "    <tr>\n",
       "      <th>234920</th>\n",
       "      <td>339</td>\n",
       "      <td>7791600066512</td>\n",
       "      <td>9-1-402</td>\n",
       "    </tr>\n",
       "    <tr>\n",
       "      <th>251632</th>\n",
       "      <td>113.4</td>\n",
       "      <td>7792143700635</td>\n",
       "      <td>20-1-1</td>\n",
       "    </tr>\n",
       "    <tr>\n",
       "      <th>194773</th>\n",
       "      <td>1030</td>\n",
       "      <td>7791130065832</td>\n",
       "      <td>10-2-130</td>\n",
       "    </tr>\n",
       "    <tr>\n",
       "      <th>82312</th>\n",
       "      <td>161.99</td>\n",
       "      <td>7790070228123</td>\n",
       "      <td>25-1-1</td>\n",
       "    </tr>\n",
       "  </tbody>\n",
       "</table>\n",
       "</div>"
      ],
      "text/plain": [
       "        precio    producto_id sucursal_id\n",
       "97237    75.96  7790130000317    10-2-137\n",
       "335179   11.99  7798027250760      25-1-1\n",
       "115295   199.9  7790272000954      46-1-3\n",
       "290698     305  7793440002194    10-1-210\n",
       "212752    59.9  7791293026534      49-1-2\n",
       "264635    6.99  7792730018143      25-1-1\n",
       "136345     153  7790520010247    10-2-135\n",
       "156319  110.75  7790580602406   16-1-1402\n",
       "325563   125.9  7796373002750      44-1-8\n",
       "78527     65.9  7790045823858      50-1-2\n",
       "127322   69.99  7790398000265      25-1-1\n",
       "111707     154  7790250019510    9-3-5277\n",
       "221175     142  7791293038216    10-2-132\n",
       "59542      140  7622300847265     9-1-730\n",
       "495        193  0000075027513    10-1-159\n",
       "353816   99.99  7798113603012       1-1-7\n",
       "234920     339  7791600066512     9-1-402\n",
       "251632   113.4  7792143700635      20-1-1\n",
       "194773    1030  7791130065832    10-2-130\n",
       "82312   161.99  7790070228123      25-1-1"
      ]
     },
     "execution_count": 15,
     "metadata": {},
     "output_type": "execute_result"
    }
   ],
   "source": [
    "#Imprimimos un extracto aleatorio de la tabla para verificar posibles anomalias en el formato de los datos\n",
    "df2.sample(20)"
   ]
  },
  {
   "cell_type": "code",
   "execution_count": 16,
   "metadata": {},
   "outputs": [],
   "source": [
    "#Aplicamos la normalizacion a la columna 'producto_id'\n",
    "df2['producto_id'] = df2['producto_id'].apply(productos)"
   ]
  },
  {
   "cell_type": "code",
   "execution_count": 17,
   "metadata": {},
   "outputs": [],
   "source": [
    "#Generamos una funcion para reemplzar los valos vacios por 0\n",
    "def vacios(x):\n",
    "    if x == '':\n",
    "        x = 0\n",
    "    else:\n",
    "        pass\n",
    "    return x"
   ]
  },
  {
   "cell_type": "code",
   "execution_count": 18,
   "metadata": {},
   "outputs": [],
   "source": [
    "#Aplicamos la funcion a la columna 'precio'\n",
    "df2['precio'] = df2['precio'].apply(vacios)"
   ]
  },
  {
   "cell_type": "code",
   "execution_count": 19,
   "metadata": {},
   "outputs": [
    {
     "data": {
      "text/html": [
       "<div>\n",
       "<style scoped>\n",
       "    .dataframe tbody tr th:only-of-type {\n",
       "        vertical-align: middle;\n",
       "    }\n",
       "\n",
       "    .dataframe tbody tr th {\n",
       "        vertical-align: top;\n",
       "    }\n",
       "\n",
       "    .dataframe thead th {\n",
       "        text-align: right;\n",
       "    }\n",
       "</style>\n",
       "<table border=\"1\" class=\"dataframe\">\n",
       "  <thead>\n",
       "    <tr style=\"text-align: right;\">\n",
       "      <th></th>\n",
       "      <th>precio</th>\n",
       "      <th>producto_id</th>\n",
       "      <th>sucursal_id</th>\n",
       "    </tr>\n",
       "  </thead>\n",
       "  <tbody>\n",
       "    <tr>\n",
       "      <th>134076</th>\n",
       "      <td>84.5</td>\n",
       "      <td>7790520007599</td>\n",
       "      <td>9-3-5227</td>\n",
       "    </tr>\n",
       "    <tr>\n",
       "      <th>50623</th>\n",
       "      <td>179.0</td>\n",
       "      <td>7613034399618</td>\n",
       "      <td>50-1-2</td>\n",
       "    </tr>\n",
       "    <tr>\n",
       "      <th>195529</th>\n",
       "      <td>418.0</td>\n",
       "      <td>7791130189644</td>\n",
       "      <td>9-1-688</td>\n",
       "    </tr>\n",
       "    <tr>\n",
       "      <th>79397</th>\n",
       "      <td>136.0</td>\n",
       "      <td>7790060023684</td>\n",
       "      <td>6-1-23</td>\n",
       "    </tr>\n",
       "    <tr>\n",
       "      <th>68791</th>\n",
       "      <td>199.0</td>\n",
       "      <td>7790010915403</td>\n",
       "      <td>50-1-2</td>\n",
       "    </tr>\n",
       "  </tbody>\n",
       "</table>\n",
       "</div>"
      ],
      "text/plain": [
       "        precio    producto_id sucursal_id\n",
       "134076    84.5  7790520007599    9-3-5227\n",
       "50623    179.0  7613034399618      50-1-2\n",
       "195529   418.0  7791130189644     9-1-688\n",
       "79397    136.0  7790060023684      6-1-23\n",
       "68791    199.0  7790010915403      50-1-2"
      ]
     },
     "execution_count": 19,
     "metadata": {},
     "output_type": "execute_result"
    }
   ],
   "source": [
    "#imprimimos un extracto aleatorio\n",
    "df2.sample(5)"
   ]
  },
  {
   "cell_type": "code",
   "execution_count": 20,
   "metadata": {},
   "outputs": [],
   "source": [
    "#Caramos el tercer dataset\n",
    "df4 = pd.read_csv('/dataset/Dataset/precios_semanas_20200419_20200419.csv')"
   ]
  },
  {
   "cell_type": "code",
   "execution_count": 21,
   "metadata": {},
   "outputs": [
    {
     "name": "stdout",
     "output_type": "stream",
     "text": [
      "precio         1807\n",
      "sucursal_id       0\n",
      "producto_id       0\n",
      "dtype: int64\n",
      "   precio sucursal_id producto_id\n",
      "0   29.90     2-1-184        2288\n",
      "1   39.90     2-1-206        2288\n",
      "2  499.99     9-1-430      205870\n",
      "3  539.99     9-2-107      205870\n",
      "4  539.99  03/09/5218      205870\n"
     ]
    }
   ],
   "source": [
    "#Veridicamos valores faltantes y formato de los datos\n",
    "print(df4.isna().sum())\n",
    "print(df4.head())"
   ]
  },
  {
   "cell_type": "code",
   "execution_count": 22,
   "metadata": {},
   "outputs": [],
   "source": [
    "#Eliminamos los valores corruptos\n",
    "df4 = df4.dropna()"
   ]
  },
  {
   "cell_type": "code",
   "execution_count": 23,
   "metadata": {},
   "outputs": [],
   "source": [
    "#Definimos una funcion para reemplazar los '/' por '-'\n",
    "def sucursal(dato):\n",
    "    dato = dato.replace('/','-')\n",
    "    return dato"
   ]
  },
  {
   "cell_type": "code",
   "execution_count": 24,
   "metadata": {},
   "outputs": [],
   "source": [
    "#Aplicamos la funcion las funciones \n",
    "df4['sucursal_id'] = df4['sucursal_id'].apply(sucursal)\n",
    "df4['producto_id'] = df4['producto_id'].apply(productos)"
   ]
  },
  {
   "cell_type": "code",
   "execution_count": 26,
   "metadata": {},
   "outputs": [
    {
     "data": {
      "text/html": [
       "<div>\n",
       "<style scoped>\n",
       "    .dataframe tbody tr th:only-of-type {\n",
       "        vertical-align: middle;\n",
       "    }\n",
       "\n",
       "    .dataframe tbody tr th {\n",
       "        vertical-align: top;\n",
       "    }\n",
       "\n",
       "    .dataframe thead th {\n",
       "        text-align: right;\n",
       "    }\n",
       "</style>\n",
       "<table border=\"1\" class=\"dataframe\">\n",
       "  <thead>\n",
       "    <tr style=\"text-align: right;\">\n",
       "      <th></th>\n",
       "      <th>precio</th>\n",
       "    </tr>\n",
       "  </thead>\n",
       "  <tbody>\n",
       "    <tr>\n",
       "      <th>count</th>\n",
       "      <td>4.567360e+05</td>\n",
       "    </tr>\n",
       "    <tr>\n",
       "      <th>mean</th>\n",
       "      <td>2.364533e+12</td>\n",
       "    </tr>\n",
       "    <tr>\n",
       "      <th>std</th>\n",
       "      <td>2.977930e+14</td>\n",
       "    </tr>\n",
       "    <tr>\n",
       "      <th>min</th>\n",
       "      <td>2.200000e-01</td>\n",
       "    </tr>\n",
       "    <tr>\n",
       "      <th>25%</th>\n",
       "      <td>6.700000e+01</td>\n",
       "    </tr>\n",
       "    <tr>\n",
       "      <th>50%</th>\n",
       "      <td>1.190000e+02</td>\n",
       "    </tr>\n",
       "    <tr>\n",
       "      <th>75%</th>\n",
       "      <td>2.139900e+02</td>\n",
       "    </tr>\n",
       "    <tr>\n",
       "      <th>max</th>\n",
       "      <td>4.399890e+16</td>\n",
       "    </tr>\n",
       "  </tbody>\n",
       "</table>\n",
       "</div>"
      ],
      "text/plain": [
       "             precio\n",
       "count  4.567360e+05\n",
       "mean   2.364533e+12\n",
       "std    2.977930e+14\n",
       "min    2.200000e-01\n",
       "25%    6.700000e+01\n",
       "50%    1.190000e+02\n",
       "75%    2.139900e+02\n",
       "max    4.399890e+16"
      ]
     },
     "execution_count": 26,
     "metadata": {},
     "output_type": "execute_result"
    }
   ],
   "source": [
    "#Verificamos el rango de los datos y descartamos la tabla por tener outliers\n",
    "df4.describe()"
   ]
  },
  {
   "cell_type": "code",
   "execution_count": 27,
   "metadata": {},
   "outputs": [
    {
     "data": {
      "text/html": [
       "<div>\n",
       "<style scoped>\n",
       "    .dataframe tbody tr th:only-of-type {\n",
       "        vertical-align: middle;\n",
       "    }\n",
       "\n",
       "    .dataframe tbody tr th {\n",
       "        vertical-align: top;\n",
       "    }\n",
       "\n",
       "    .dataframe thead th {\n",
       "        text-align: right;\n",
       "    }\n",
       "</style>\n",
       "<table border=\"1\" class=\"dataframe\">\n",
       "  <thead>\n",
       "    <tr style=\"text-align: right;\">\n",
       "      <th></th>\n",
       "      <th>precio</th>\n",
       "      <th>sucursal_id</th>\n",
       "      <th>producto_id</th>\n",
       "    </tr>\n",
       "  </thead>\n",
       "  <tbody>\n",
       "    <tr>\n",
       "      <th>0</th>\n",
       "      <td>29.90</td>\n",
       "      <td>2-1-184</td>\n",
       "      <td>0000000002288</td>\n",
       "    </tr>\n",
       "    <tr>\n",
       "      <th>1</th>\n",
       "      <td>39.90</td>\n",
       "      <td>2-1-206</td>\n",
       "      <td>0000000002288</td>\n",
       "    </tr>\n",
       "    <tr>\n",
       "      <th>2</th>\n",
       "      <td>499.99</td>\n",
       "      <td>9-1-430</td>\n",
       "      <td>0000000205870</td>\n",
       "    </tr>\n",
       "    <tr>\n",
       "      <th>3</th>\n",
       "      <td>539.99</td>\n",
       "      <td>9-2-107</td>\n",
       "      <td>0000000205870</td>\n",
       "    </tr>\n",
       "    <tr>\n",
       "      <th>4</th>\n",
       "      <td>539.99</td>\n",
       "      <td>03-09-5218</td>\n",
       "      <td>0000000205870</td>\n",
       "    </tr>\n",
       "  </tbody>\n",
       "</table>\n",
       "</div>"
      ],
      "text/plain": [
       "   precio sucursal_id    producto_id\n",
       "0   29.90     2-1-184  0000000002288\n",
       "1   39.90     2-1-206  0000000002288\n",
       "2  499.99     9-1-430  0000000205870\n",
       "3  539.99     9-2-107  0000000205870\n",
       "4  539.99  03-09-5218  0000000205870"
      ]
     },
     "execution_count": 27,
     "metadata": {},
     "output_type": "execute_result"
    }
   ],
   "source": [
    "#Verificacion del formato final de la tabla\n",
    "df4.head()"
   ]
  },
  {
   "cell_type": "code",
   "execution_count": 28,
   "metadata": {},
   "outputs": [],
   "source": [
    "#Carga del tercer dataset\n",
    "df5 = pd.read_csv('/dataset/Dataset/precios_semanas_20200426_20200426.csv')"
   ]
  },
  {
   "cell_type": "code",
   "execution_count": 29,
   "metadata": {},
   "outputs": [
    {
     "name": "stdout",
     "output_type": "stream",
     "text": [
      "precio          1736\n",
      "sucursal_id        0\n",
      "producto_id    13519\n",
      "dtype: int64\n",
      "    precio sucursal_id  producto_id\n",
      "0    399.0     2-1-092       2288.0\n",
      "1    299.0     2-1-206       2288.0\n",
      "2    399.0     2-2-241       2288.0\n",
      "3  49999.0     9-1-430     205870.0\n",
      "4  53999.0       9-2-4     205870.0\n",
      "precio         float64\n",
      "sucursal_id     object\n",
      "producto_id    float64\n",
      "dtype: object\n"
     ]
    }
   ],
   "source": [
    "#Verificacion de los datos\n",
    "print(df5.isna().sum())\n",
    "print(df5.head())\n",
    "print(df5.dtypes)"
   ]
  },
  {
   "cell_type": "code",
   "execution_count": 30,
   "metadata": {},
   "outputs": [
    {
     "data": {
      "text/plain": [
       "3441715.0"
      ]
     },
     "execution_count": 30,
     "metadata": {},
     "output_type": "execute_result"
    }
   ],
   "source": [
    "#Eliminacion de las filas corruptas y vericacion de outliers\n",
    "df5 = df5.dropna()\n",
    "df5['precio'].max()\n"
   ]
  },
  {
   "cell_type": "code",
   "execution_count": 31,
   "metadata": {},
   "outputs": [],
   "source": [
    "#Se crea una funcion para eliminar la parte decimal\n",
    "def decimal(num):\n",
    "    num = str(num)\n",
    "    num = num.replace('.0','')\n",
    "    return num"
   ]
  },
  {
   "cell_type": "code",
   "execution_count": 32,
   "metadata": {},
   "outputs": [],
   "source": [
    "# Se aplica la Funcion\n",
    "df5['producto_id'] = df5['producto_id'].apply(decimal)"
   ]
  },
  {
   "cell_type": "code",
   "execution_count": 33,
   "metadata": {},
   "outputs": [
    {
     "data": {
      "text/html": [
       "<div>\n",
       "<style scoped>\n",
       "    .dataframe tbody tr th:only-of-type {\n",
       "        vertical-align: middle;\n",
       "    }\n",
       "\n",
       "    .dataframe tbody tr th {\n",
       "        vertical-align: top;\n",
       "    }\n",
       "\n",
       "    .dataframe thead th {\n",
       "        text-align: right;\n",
       "    }\n",
       "</style>\n",
       "<table border=\"1\" class=\"dataframe\">\n",
       "  <thead>\n",
       "    <tr style=\"text-align: right;\">\n",
       "      <th></th>\n",
       "      <th>precio</th>\n",
       "      <th>sucursal_id</th>\n",
       "      <th>producto_id</th>\n",
       "    </tr>\n",
       "  </thead>\n",
       "  <tbody>\n",
       "    <tr>\n",
       "      <th>0</th>\n",
       "      <td>399.0</td>\n",
       "      <td>2-1-092</td>\n",
       "      <td>2288</td>\n",
       "    </tr>\n",
       "    <tr>\n",
       "      <th>1</th>\n",
       "      <td>299.0</td>\n",
       "      <td>2-1-206</td>\n",
       "      <td>2288</td>\n",
       "    </tr>\n",
       "    <tr>\n",
       "      <th>2</th>\n",
       "      <td>399.0</td>\n",
       "      <td>2-2-241</td>\n",
       "      <td>2288</td>\n",
       "    </tr>\n",
       "    <tr>\n",
       "      <th>3</th>\n",
       "      <td>49999.0</td>\n",
       "      <td>9-1-430</td>\n",
       "      <td>205870</td>\n",
       "    </tr>\n",
       "    <tr>\n",
       "      <th>4</th>\n",
       "      <td>53999.0</td>\n",
       "      <td>9-2-4</td>\n",
       "      <td>205870</td>\n",
       "    </tr>\n",
       "  </tbody>\n",
       "</table>\n",
       "</div>"
      ],
      "text/plain": [
       "    precio sucursal_id producto_id\n",
       "0    399.0     2-1-092        2288\n",
       "1    299.0     2-1-206        2288\n",
       "2    399.0     2-2-241        2288\n",
       "3  49999.0     9-1-430      205870\n",
       "4  53999.0       9-2-4      205870"
      ]
     },
     "execution_count": 33,
     "metadata": {},
     "output_type": "execute_result"
    }
   ],
   "source": [
    "#Se Verifica la Salida\n",
    "df5.head(5)"
   ]
  },
  {
   "cell_type": "code",
   "execution_count": 34,
   "metadata": {},
   "outputs": [],
   "source": [
    "#Normalizacion de columna sucursal y producto\n",
    "df5['sucursal_id'] = df5['sucursal_id'].apply(sucursal)\n",
    "df5['producto_id'] = df5['producto_id'].apply(productos)"
   ]
  },
  {
   "cell_type": "code",
   "execution_count": 36,
   "metadata": {},
   "outputs": [
    {
     "data": {
      "text/html": [
       "<div>\n",
       "<style scoped>\n",
       "    .dataframe tbody tr th:only-of-type {\n",
       "        vertical-align: middle;\n",
       "    }\n",
       "\n",
       "    .dataframe tbody tr th {\n",
       "        vertical-align: top;\n",
       "    }\n",
       "\n",
       "    .dataframe thead th {\n",
       "        text-align: right;\n",
       "    }\n",
       "</style>\n",
       "<table border=\"1\" class=\"dataframe\">\n",
       "  <thead>\n",
       "    <tr style=\"text-align: right;\">\n",
       "      <th></th>\n",
       "      <th>precio</th>\n",
       "      <th>sucursal_id</th>\n",
       "      <th>producto_id</th>\n",
       "    </tr>\n",
       "  </thead>\n",
       "  <tbody>\n",
       "    <tr>\n",
       "      <th>0</th>\n",
       "      <td>399.0</td>\n",
       "      <td>2-1-092</td>\n",
       "      <td>0000000002288</td>\n",
       "    </tr>\n",
       "    <tr>\n",
       "      <th>1</th>\n",
       "      <td>299.0</td>\n",
       "      <td>2-1-206</td>\n",
       "      <td>0000000002288</td>\n",
       "    </tr>\n",
       "    <tr>\n",
       "      <th>2</th>\n",
       "      <td>399.0</td>\n",
       "      <td>2-2-241</td>\n",
       "      <td>0000000002288</td>\n",
       "    </tr>\n",
       "    <tr>\n",
       "      <th>3</th>\n",
       "      <td>49999.0</td>\n",
       "      <td>9-1-430</td>\n",
       "      <td>0000000205870</td>\n",
       "    </tr>\n",
       "    <tr>\n",
       "      <th>4</th>\n",
       "      <td>53999.0</td>\n",
       "      <td>9-2-4</td>\n",
       "      <td>0000000205870</td>\n",
       "    </tr>\n",
       "  </tbody>\n",
       "</table>\n",
       "</div>"
      ],
      "text/plain": [
       "    precio sucursal_id    producto_id\n",
       "0    399.0     2-1-092  0000000002288\n",
       "1    299.0     2-1-206  0000000002288\n",
       "2    399.0     2-2-241  0000000002288\n",
       "3  49999.0     9-1-430  0000000205870\n",
       "4  53999.0       9-2-4  0000000205870"
      ]
     },
     "execution_count": 36,
     "metadata": {},
     "output_type": "execute_result"
    }
   ],
   "source": [
    "#Verificacion\n",
    "df5.head()"
   ]
  },
  {
   "cell_type": "code",
   "execution_count": 37,
   "metadata": {},
   "outputs": [],
   "source": [
    "#Carga de Dataset Productos\n",
    "df6 = pd.read_parquet('/dataset/Dataset/producto.parquet', engine='pyarrow')"
   ]
  },
  {
   "cell_type": "code",
   "execution_count": 38,
   "metadata": {},
   "outputs": [
    {
     "data": {
      "text/plain": [
       "id              object\n",
       "marca           object\n",
       "nombre          object\n",
       "presentacion    object\n",
       "categoria1      object\n",
       "categoria2      object\n",
       "categoria3      object\n",
       "dtype: object"
      ]
     },
     "execution_count": 38,
     "metadata": {},
     "output_type": "execute_result"
    }
   ],
   "source": [
    "#Verificacoin de los tipos de datos por columna\n",
    "df6.dtypes"
   ]
  },
  {
   "cell_type": "code",
   "execution_count": 39,
   "metadata": {},
   "outputs": [
    {
     "data": {
      "text/html": [
       "<div>\n",
       "<style scoped>\n",
       "    .dataframe tbody tr th:only-of-type {\n",
       "        vertical-align: middle;\n",
       "    }\n",
       "\n",
       "    .dataframe tbody tr th {\n",
       "        vertical-align: top;\n",
       "    }\n",
       "\n",
       "    .dataframe thead th {\n",
       "        text-align: right;\n",
       "    }\n",
       "</style>\n",
       "<table border=\"1\" class=\"dataframe\">\n",
       "  <thead>\n",
       "    <tr style=\"text-align: right;\">\n",
       "      <th></th>\n",
       "      <th>id</th>\n",
       "      <th>marca</th>\n",
       "      <th>nombre</th>\n",
       "      <th>presentacion</th>\n",
       "      <th>categoria1</th>\n",
       "      <th>categoria2</th>\n",
       "      <th>categoria3</th>\n",
       "    </tr>\n",
       "  </thead>\n",
       "  <tbody>\n",
       "    <tr>\n",
       "      <th>50670</th>\n",
       "      <td>7796045602479</td>\n",
       "      <td>TORTULAN</td>\n",
       "      <td>Crema Tortulan Antiarrugas con Aha 110 Gr</td>\n",
       "      <td>110.0 gr</td>\n",
       "      <td>None</td>\n",
       "      <td>None</td>\n",
       "      <td>None</td>\n",
       "    </tr>\n",
       "    <tr>\n",
       "      <th>54598</th>\n",
       "      <td>7798039590182</td>\n",
       "      <td>TRIVENTO</td>\n",
       "      <td>Vino Blanco Chardonay Roble Trivento 750 Cc</td>\n",
       "      <td>750.0 cc</td>\n",
       "      <td>None</td>\n",
       "      <td>None</td>\n",
       "      <td>None</td>\n",
       "    </tr>\n",
       "    <tr>\n",
       "      <th>10173</th>\n",
       "      <td>4002590703541</td>\n",
       "      <td>KALFANY</td>\n",
       "      <td>Caramelos Strawberry Candies Kalfany 150 Gr</td>\n",
       "      <td>150.0 gr</td>\n",
       "      <td>None</td>\n",
       "      <td>None</td>\n",
       "      <td>None</td>\n",
       "    </tr>\n",
       "    <tr>\n",
       "      <th>36472</th>\n",
       "      <td>7791540140303</td>\n",
       "      <td>HEREFORD</td>\n",
       "      <td>Vino Tinto Cabernet Sauvignon Hereford 750 Cc</td>\n",
       "      <td>750.0 cc</td>\n",
       "      <td>None</td>\n",
       "      <td>None</td>\n",
       "      <td>None</td>\n",
       "    </tr>\n",
       "    <tr>\n",
       "      <th>63269</th>\n",
       "      <td>7798153719025</td>\n",
       "      <td>EQUATE</td>\n",
       "      <td>Tollas Desmaquillantes Piel Seca Equate 25 Un</td>\n",
       "      <td>25.0 un</td>\n",
       "      <td>None</td>\n",
       "      <td>None</td>\n",
       "      <td>None</td>\n",
       "    </tr>\n",
       "  </tbody>\n",
       "</table>\n",
       "</div>"
      ],
      "text/plain": [
       "                  id     marca                                         nombre  \\\n",
       "50670  7796045602479  TORTULAN      Crema Tortulan Antiarrugas con Aha 110 Gr   \n",
       "54598  7798039590182  TRIVENTO    Vino Blanco Chardonay Roble Trivento 750 Cc   \n",
       "10173  4002590703541   KALFANY    Caramelos Strawberry Candies Kalfany 150 Gr   \n",
       "36472  7791540140303  HEREFORD  Vino Tinto Cabernet Sauvignon Hereford 750 Cc   \n",
       "63269  7798153719025    EQUATE  Tollas Desmaquillantes Piel Seca Equate 25 Un   \n",
       "\n",
       "      presentacion categoria1 categoria2 categoria3  \n",
       "50670     110.0 gr       None       None       None  \n",
       "54598     750.0 cc       None       None       None  \n",
       "10173     150.0 gr       None       None       None  \n",
       "36472     750.0 cc       None       None       None  \n",
       "63269      25.0 un       None       None       None  "
      ]
     },
     "execution_count": 39,
     "metadata": {},
     "output_type": "execute_result"
    }
   ],
   "source": [
    "#Imprecion extracto aleatorio\n",
    "df6.sample(5)"
   ]
  },
  {
   "cell_type": "code",
   "execution_count": 40,
   "metadata": {},
   "outputs": [],
   "source": [
    "#Aplicamos la normalizacion a la columna producto\n",
    "df6['id'] = df6['id'].apply(productos)"
   ]
  },
  {
   "cell_type": "code",
   "execution_count": 41,
   "metadata": {},
   "outputs": [
    {
     "name": "stdout",
     "output_type": "stream",
     "text": [
      "id                  0\n",
      "marca               2\n",
      "nombre              2\n",
      "presentacion        2\n",
      "categoria1      72034\n",
      "categoria2      72034\n",
      "categoria3      72034\n",
      "dtype: int64\n",
      "id                  0\n",
      "marca               2\n",
      "nombre              2\n",
      "presentacion        2\n",
      "categoria1      72034\n",
      "categoria2      72034\n",
      "categoria3      72034\n",
      "dtype: int64\n",
      "Cantidad de Id:  72038\n",
      "Id Distintos  67943\n"
     ]
    }
   ],
   "source": [
    "#Veriicacion de datos\n",
    "print(df6.isnull().sum())\n",
    "print(df6.isna().sum())\n",
    "print('Cantidad de Id: ',df6['id'].count())\n",
    "print('Id Distintos ',len(df6['id'].unique()))"
   ]
  },
  {
   "cell_type": "code",
   "execution_count": 42,
   "metadata": {},
   "outputs": [],
   "source": [
    "#Cambio de nombre de la columna id por producto_id\n",
    "df6 = df6.rename(columns={'id':'producto_id'})"
   ]
  },
  {
   "cell_type": "code",
   "execution_count": 43,
   "metadata": {},
   "outputs": [
    {
     "data": {
      "text/html": [
       "<div>\n",
       "<style scoped>\n",
       "    .dataframe tbody tr th:only-of-type {\n",
       "        vertical-align: middle;\n",
       "    }\n",
       "\n",
       "    .dataframe tbody tr th {\n",
       "        vertical-align: top;\n",
       "    }\n",
       "\n",
       "    .dataframe thead th {\n",
       "        text-align: right;\n",
       "    }\n",
       "</style>\n",
       "<table border=\"1\" class=\"dataframe\">\n",
       "  <thead>\n",
       "    <tr style=\"text-align: right;\">\n",
       "      <th></th>\n",
       "      <th>producto_id</th>\n",
       "      <th>marca</th>\n",
       "      <th>nombre</th>\n",
       "      <th>presentacion</th>\n",
       "      <th>categoria1</th>\n",
       "      <th>categoria2</th>\n",
       "      <th>categoria3</th>\n",
       "    </tr>\n",
       "  </thead>\n",
       "  <tbody>\n",
       "    <tr>\n",
       "      <th>52168</th>\n",
       "      <td>7797470129081</td>\n",
       "      <td>ESENCIAL</td>\n",
       "      <td>Suavizante Rocio Doypack Esencial 900 Cc</td>\n",
       "      <td>900.0 cc</td>\n",
       "      <td>None</td>\n",
       "      <td>None</td>\n",
       "      <td>None</td>\n",
       "    </tr>\n",
       "    <tr>\n",
       "      <th>28266</th>\n",
       "      <td>7790740502478</td>\n",
       "      <td>PLUSBELLE</td>\n",
       "      <td>Acondicionador para Cabello Graso Plusbelle 1 Lt</td>\n",
       "      <td>1.0 lt</td>\n",
       "      <td>None</td>\n",
       "      <td>None</td>\n",
       "      <td>None</td>\n",
       "    </tr>\n",
       "    <tr>\n",
       "      <th>31091</th>\n",
       "      <td>7791071000053</td>\n",
       "      <td>RAULITO</td>\n",
       "      <td>Mermelada de Zapallo Raulito 500 Gr</td>\n",
       "      <td>500.0 gr</td>\n",
       "      <td>None</td>\n",
       "      <td>None</td>\n",
       "      <td>None</td>\n",
       "    </tr>\n",
       "  </tbody>\n",
       "</table>\n",
       "</div>"
      ],
      "text/plain": [
       "         producto_id      marca  \\\n",
       "52168  7797470129081   ESENCIAL   \n",
       "28266  7790740502478  PLUSBELLE   \n",
       "31091  7791071000053    RAULITO   \n",
       "\n",
       "                                                 nombre presentacion  \\\n",
       "52168          Suavizante Rocio Doypack Esencial 900 Cc     900.0 cc   \n",
       "28266  Acondicionador para Cabello Graso Plusbelle 1 Lt       1.0 lt   \n",
       "31091               Mermelada de Zapallo Raulito 500 Gr     500.0 gr   \n",
       "\n",
       "      categoria1 categoria2 categoria3  \n",
       "52168       None       None       None  \n",
       "28266       None       None       None  \n",
       "31091       None       None       None  "
      ]
     },
     "execution_count": 43,
     "metadata": {},
     "output_type": "execute_result"
    }
   ],
   "source": [
    "#Verificacion\n",
    "df6.sample(3)"
   ]
  },
  {
   "cell_type": "code",
   "execution_count": 46,
   "metadata": {},
   "outputs": [],
   "source": [
    "#Carga Dataset Sucursales\n",
    "df7 = pd.read_csv('/dataset/Dataset/sucursal.csv')"
   ]
  },
  {
   "cell_type": "code",
   "execution_count": 47,
   "metadata": {},
   "outputs": [
    {
     "data": {
      "text/plain": [
       "id                      object\n",
       "comercioId               int64\n",
       "banderaId                int64\n",
       "banderaDescripcion      object\n",
       "comercioRazonSocial     object\n",
       "provincia               object\n",
       "localidad               object\n",
       "direccion               object\n",
       "lat                    float64\n",
       "lng                    float64\n",
       "sucursalNombre          object\n",
       "sucursalTipo            object\n",
       "dtype: object"
      ]
     },
     "execution_count": 47,
     "metadata": {},
     "output_type": "execute_result"
    }
   ],
   "source": [
    "#Tipos de Datos por columna\n",
    "df7.dtypes"
   ]
  },
  {
   "cell_type": "code",
   "execution_count": 48,
   "metadata": {},
   "outputs": [
    {
     "data": {
      "text/html": [
       "<div>\n",
       "<style scoped>\n",
       "    .dataframe tbody tr th:only-of-type {\n",
       "        vertical-align: middle;\n",
       "    }\n",
       "\n",
       "    .dataframe tbody tr th {\n",
       "        vertical-align: top;\n",
       "    }\n",
       "\n",
       "    .dataframe thead th {\n",
       "        text-align: right;\n",
       "    }\n",
       "</style>\n",
       "<table border=\"1\" class=\"dataframe\">\n",
       "  <thead>\n",
       "    <tr style=\"text-align: right;\">\n",
       "      <th></th>\n",
       "      <th>id</th>\n",
       "      <th>comercioId</th>\n",
       "      <th>banderaId</th>\n",
       "      <th>banderaDescripcion</th>\n",
       "      <th>comercioRazonSocial</th>\n",
       "      <th>provincia</th>\n",
       "      <th>localidad</th>\n",
       "      <th>direccion</th>\n",
       "      <th>lat</th>\n",
       "      <th>lng</th>\n",
       "      <th>sucursalNombre</th>\n",
       "      <th>sucursalTipo</th>\n",
       "    </tr>\n",
       "  </thead>\n",
       "  <tbody>\n",
       "    <tr>\n",
       "      <th>1830</th>\n",
       "      <td>23-1-6243</td>\n",
       "      <td>23</td>\n",
       "      <td>1</td>\n",
       "      <td>Axion Energy</td>\n",
       "      <td>Pan American Energy LLC Argentina</td>\n",
       "      <td>AR-B</td>\n",
       "      <td>General Pueyrredon</td>\n",
       "      <td>Av. J. B. Justo 6065</td>\n",
       "      <td>-37.999700</td>\n",
       "      <td>-57.598600</td>\n",
       "      <td>El Gaucho</td>\n",
       "      <td>Autoservicio</td>\n",
       "    </tr>\n",
       "    <tr>\n",
       "      <th>175</th>\n",
       "      <td>10-2-388</td>\n",
       "      <td>10</td>\n",
       "      <td>2</td>\n",
       "      <td>Market</td>\n",
       "      <td>INC S.A.</td>\n",
       "      <td>AR-B</td>\n",
       "      <td>Adrogué</td>\n",
       "      <td>Seguí 849</td>\n",
       "      <td>-34.799052</td>\n",
       "      <td>-58.395114</td>\n",
       "      <td>Adrogué</td>\n",
       "      <td>Supermercado</td>\n",
       "    </tr>\n",
       "    <tr>\n",
       "      <th>1140</th>\n",
       "      <td>15-1-230</td>\n",
       "      <td>15</td>\n",
       "      <td>1</td>\n",
       "      <td>Supermercados DIA</td>\n",
       "      <td>DIA Argentina S.A</td>\n",
       "      <td>AR-B</td>\n",
       "      <td>Carlos Casares</td>\n",
       "      <td>Cl San Martin 0</td>\n",
       "      <td>-35.625004</td>\n",
       "      <td>-61.365063</td>\n",
       "      <td>230 - Carlos Casares</td>\n",
       "      <td>Autoservicio</td>\n",
       "    </tr>\n",
       "    <tr>\n",
       "      <th>1043</th>\n",
       "      <td>15-1-1505</td>\n",
       "      <td>15</td>\n",
       "      <td>1</td>\n",
       "      <td>Supermercados DIA</td>\n",
       "      <td>DIA Argentina S.A</td>\n",
       "      <td>AR-B</td>\n",
       "      <td>Avellaneda</td>\n",
       "      <td>Av Galicia 759</td>\n",
       "      <td>-34.670952</td>\n",
       "      <td>-58.390400</td>\n",
       "      <td>1505 - Avellaneda</td>\n",
       "      <td>Autoservicio</td>\n",
       "    </tr>\n",
       "    <tr>\n",
       "      <th>1224</th>\n",
       "      <td>15-1-321</td>\n",
       "      <td>15</td>\n",
       "      <td>1</td>\n",
       "      <td>Supermercados DIA</td>\n",
       "      <td>DIA Argentina S.A</td>\n",
       "      <td>AR-C</td>\n",
       "      <td>Capital Federal</td>\n",
       "      <td>Cl Charcas 2725</td>\n",
       "      <td>-34.594593</td>\n",
       "      <td>-58.405350</td>\n",
       "      <td>321 - Recoleta</td>\n",
       "      <td>Autoservicio</td>\n",
       "    </tr>\n",
       "    <tr>\n",
       "      <th>299</th>\n",
       "      <td>10-3-418</td>\n",
       "      <td>10</td>\n",
       "      <td>3</td>\n",
       "      <td>Express</td>\n",
       "      <td>INC S.A.</td>\n",
       "      <td>AR-C</td>\n",
       "      <td>Ciudad Autónoma de Buenos Aires</td>\n",
       "      <td>Carlos Calvo 1826</td>\n",
       "      <td>-34.620294</td>\n",
       "      <td>-58.392204</td>\n",
       "      <td>Carlos Calvo 1826</td>\n",
       "      <td>Autoservicio</td>\n",
       "    </tr>\n",
       "    <tr>\n",
       "      <th>1206</th>\n",
       "      <td>15-1-30</td>\n",
       "      <td>15</td>\n",
       "      <td>1</td>\n",
       "      <td>Supermercados DIA</td>\n",
       "      <td>DIA Argentina S.A</td>\n",
       "      <td>AR-B</td>\n",
       "      <td>Moron</td>\n",
       "      <td>Cl Rivadavia 6275</td>\n",
       "      <td>-34.646011</td>\n",
       "      <td>-58.592939</td>\n",
       "      <td>30 - Moron</td>\n",
       "      <td>Autoservicio</td>\n",
       "    </tr>\n",
       "    <tr>\n",
       "      <th>2135</th>\n",
       "      <td>9-1-478</td>\n",
       "      <td>9</td>\n",
       "      <td>1</td>\n",
       "      <td>Vea</td>\n",
       "      <td>Jumbo Retail Argentina S.A.</td>\n",
       "      <td>AR-X</td>\n",
       "      <td>BELL VILLE</td>\n",
       "      <td>Boulevard Colon 850</td>\n",
       "      <td>-32.619000</td>\n",
       "      <td>-62.693800</td>\n",
       "      <td>Bellville.</td>\n",
       "      <td>Supermercado</td>\n",
       "    </tr>\n",
       "    <tr>\n",
       "      <th>1194</th>\n",
       "      <td>15-1-289</td>\n",
       "      <td>15</td>\n",
       "      <td>1</td>\n",
       "      <td>Supermercados DIA</td>\n",
       "      <td>DIA Argentina S.A</td>\n",
       "      <td>AR-B</td>\n",
       "      <td>Benito Juarez</td>\n",
       "      <td>Av Libertad 150</td>\n",
       "      <td>-37.671562</td>\n",
       "      <td>-59.807378</td>\n",
       "      <td>289 - Benito Juarez</td>\n",
       "      <td>Autoservicio</td>\n",
       "    </tr>\n",
       "    <tr>\n",
       "      <th>1906</th>\n",
       "      <td>3-1-1066</td>\n",
       "      <td>3</td>\n",
       "      <td>1</td>\n",
       "      <td>DEHEZA S.A.I.C.F. e I.</td>\n",
       "      <td>Deheza S.A.I.C.F. e I.</td>\n",
       "      <td>AR-C</td>\n",
       "      <td>CAPITAL FEDERAL</td>\n",
       "      <td>Av. Cordoba 3710</td>\n",
       "      <td>-34.597814</td>\n",
       "      <td>-58.419089</td>\n",
       "      <td>SALGUERO</td>\n",
       "      <td>Autoservicio</td>\n",
       "    </tr>\n",
       "  </tbody>\n",
       "</table>\n",
       "</div>"
      ],
      "text/plain": [
       "             id  comercioId  banderaId      banderaDescripcion  \\\n",
       "1830  23-1-6243          23          1            Axion Energy   \n",
       "175    10-2-388          10          2                  Market   \n",
       "1140   15-1-230          15          1       Supermercados DIA   \n",
       "1043  15-1-1505          15          1       Supermercados DIA   \n",
       "1224   15-1-321          15          1       Supermercados DIA   \n",
       "299    10-3-418          10          3                 Express   \n",
       "1206    15-1-30          15          1       Supermercados DIA   \n",
       "2135    9-1-478           9          1                     Vea   \n",
       "1194   15-1-289          15          1       Supermercados DIA   \n",
       "1906   3-1-1066           3          1  DEHEZA S.A.I.C.F. e I.   \n",
       "\n",
       "                    comercioRazonSocial provincia  \\\n",
       "1830  Pan American Energy LLC Argentina      AR-B   \n",
       "175                            INC S.A.      AR-B   \n",
       "1140                  DIA Argentina S.A      AR-B   \n",
       "1043                  DIA Argentina S.A      AR-B   \n",
       "1224                  DIA Argentina S.A      AR-C   \n",
       "299                            INC S.A.      AR-C   \n",
       "1206                  DIA Argentina S.A      AR-B   \n",
       "2135        Jumbo Retail Argentina S.A.      AR-X   \n",
       "1194                  DIA Argentina S.A      AR-B   \n",
       "1906             Deheza S.A.I.C.F. e I.      AR-C   \n",
       "\n",
       "                            localidad             direccion        lat  \\\n",
       "1830               General Pueyrredon  Av. J. B. Justo 6065 -37.999700   \n",
       "175                           Adrogué             Seguí 849 -34.799052   \n",
       "1140                   Carlos Casares       Cl San Martin 0 -35.625004   \n",
       "1043                       Avellaneda        Av Galicia 759 -34.670952   \n",
       "1224                  Capital Federal       Cl Charcas 2725 -34.594593   \n",
       "299   Ciudad Autónoma de Buenos Aires     Carlos Calvo 1826 -34.620294   \n",
       "1206                            Moron     Cl Rivadavia 6275 -34.646011   \n",
       "2135                       BELL VILLE   Boulevard Colon 850 -32.619000   \n",
       "1194                    Benito Juarez       Av Libertad 150 -37.671562   \n",
       "1906                  CAPITAL FEDERAL      Av. Cordoba 3710 -34.597814   \n",
       "\n",
       "            lng        sucursalNombre  sucursalTipo  \n",
       "1830 -57.598600             El Gaucho  Autoservicio  \n",
       "175  -58.395114               Adrogué  Supermercado  \n",
       "1140 -61.365063  230 - Carlos Casares  Autoservicio  \n",
       "1043 -58.390400     1505 - Avellaneda  Autoservicio  \n",
       "1224 -58.405350        321 - Recoleta  Autoservicio  \n",
       "299  -58.392204     Carlos Calvo 1826  Autoservicio  \n",
       "1206 -58.592939            30 - Moron  Autoservicio  \n",
       "2135 -62.693800            Bellville.  Supermercado  \n",
       "1194 -59.807378   289 - Benito Juarez  Autoservicio  \n",
       "1906 -58.419089              SALGUERO  Autoservicio  "
      ]
     },
     "execution_count": 48,
     "metadata": {},
     "output_type": "execute_result"
    }
   ],
   "source": [
    "#Extracto aleatorio\n",
    "df7.sample(10)"
   ]
  },
  {
   "cell_type": "code",
   "execution_count": 49,
   "metadata": {},
   "outputs": [],
   "source": [
    "#Carga de Dataset\n",
    "df3 = pd.read_csv('/dataset/Dataset/precios_semana_20200518.txt',header=[0],sep='|' )"
   ]
  },
  {
   "cell_type": "code",
   "execution_count": 50,
   "metadata": {},
   "outputs": [],
   "source": [
    "#Emilinacion de datos corruptos\n",
    "df3 = df3.dropna()"
   ]
  },
  {
   "cell_type": "code",
   "execution_count": 51,
   "metadata": {},
   "outputs": [],
   "source": [
    "#Normalizacion columna producto_id\n",
    "df3['producto_id'] = df3['producto_id'].apply(productos)"
   ]
  },
  {
   "cell_type": "code",
   "execution_count": 52,
   "metadata": {},
   "outputs": [
    {
     "data": {
      "text/plain": [
       "35900.0"
      ]
     },
     "execution_count": 52,
     "metadata": {},
     "output_type": "execute_result"
    }
   ],
   "source": [
    "#Verificacion de outliers\n",
    "df3['precio'].max()"
   ]
  },
  {
   "cell_type": "code",
   "execution_count": 53,
   "metadata": {},
   "outputs": [
    {
     "data": {
      "text/html": [
       "<div>\n",
       "<style scoped>\n",
       "    .dataframe tbody tr th:only-of-type {\n",
       "        vertical-align: middle;\n",
       "    }\n",
       "\n",
       "    .dataframe tbody tr th {\n",
       "        vertical-align: top;\n",
       "    }\n",
       "\n",
       "    .dataframe thead th {\n",
       "        text-align: right;\n",
       "    }\n",
       "</style>\n",
       "<table border=\"1\" class=\"dataframe\">\n",
       "  <thead>\n",
       "    <tr style=\"text-align: right;\">\n",
       "      <th></th>\n",
       "      <th>precio</th>\n",
       "    </tr>\n",
       "  </thead>\n",
       "  <tbody>\n",
       "    <tr>\n",
       "      <th>count</th>\n",
       "      <td>413331.000000</td>\n",
       "    </tr>\n",
       "    <tr>\n",
       "      <th>mean</th>\n",
       "      <td>185.769702</td>\n",
       "    </tr>\n",
       "    <tr>\n",
       "      <th>std</th>\n",
       "      <td>376.164471</td>\n",
       "    </tr>\n",
       "    <tr>\n",
       "      <th>min</th>\n",
       "      <td>0.350000</td>\n",
       "    </tr>\n",
       "    <tr>\n",
       "      <th>25%</th>\n",
       "      <td>67.000000</td>\n",
       "    </tr>\n",
       "    <tr>\n",
       "      <th>50%</th>\n",
       "      <td>119.000000</td>\n",
       "    </tr>\n",
       "    <tr>\n",
       "      <th>75%</th>\n",
       "      <td>214.500000</td>\n",
       "    </tr>\n",
       "    <tr>\n",
       "      <th>max</th>\n",
       "      <td>35900.000000</td>\n",
       "    </tr>\n",
       "  </tbody>\n",
       "</table>\n",
       "</div>"
      ],
      "text/plain": [
       "              precio\n",
       "count  413331.000000\n",
       "mean      185.769702\n",
       "std       376.164471\n",
       "min         0.350000\n",
       "25%        67.000000\n",
       "50%       119.000000\n",
       "75%       214.500000\n",
       "max     35900.000000"
      ]
     },
     "execution_count": 53,
     "metadata": {},
     "output_type": "execute_result"
    }
   ],
   "source": [
    "#Verificacion de datos precios \n",
    "df3.describe()"
   ]
  },
  {
   "cell_type": "code",
   "execution_count": 54,
   "metadata": {},
   "outputs": [
    {
     "data": {
      "text/html": [
       "<div>\n",
       "<style scoped>\n",
       "    .dataframe tbody tr th:only-of-type {\n",
       "        vertical-align: middle;\n",
       "    }\n",
       "\n",
       "    .dataframe tbody tr th {\n",
       "        vertical-align: top;\n",
       "    }\n",
       "\n",
       "    .dataframe thead th {\n",
       "        text-align: right;\n",
       "    }\n",
       "</style>\n",
       "<table border=\"1\" class=\"dataframe\">\n",
       "  <thead>\n",
       "    <tr style=\"text-align: right;\">\n",
       "      <th></th>\n",
       "      <th>precio</th>\n",
       "      <th>producto_id</th>\n",
       "      <th>sucursal_id</th>\n",
       "    </tr>\n",
       "  </thead>\n",
       "  <tbody>\n",
       "    <tr>\n",
       "      <th>218588</th>\n",
       "      <td>444.0</td>\n",
       "      <td>7791293002897</td>\n",
       "      <td>10-1-9</td>\n",
       "    </tr>\n",
       "    <tr>\n",
       "      <th>179379</th>\n",
       "      <td>51.5</td>\n",
       "      <td>7790828104556</td>\n",
       "      <td>1-1-12</td>\n",
       "    </tr>\n",
       "    <tr>\n",
       "      <th>293403</th>\n",
       "      <td>142.9</td>\n",
       "      <td>7793253098902</td>\n",
       "      <td>44-1-8</td>\n",
       "    </tr>\n",
       "    <tr>\n",
       "      <th>46204</th>\n",
       "      <td>264.9</td>\n",
       "      <td>7506339391589</td>\n",
       "      <td>11-5-3608</td>\n",
       "    </tr>\n",
       "    <tr>\n",
       "      <th>361449</th>\n",
       "      <td>317.0</td>\n",
       "      <td>7798095672136</td>\n",
       "      <td>6-1-6</td>\n",
       "    </tr>\n",
       "  </tbody>\n",
       "</table>\n",
       "</div>"
      ],
      "text/plain": [
       "        precio    producto_id sucursal_id\n",
       "218588   444.0  7791293002897      10-1-9\n",
       "179379    51.5  7790828104556      1-1-12\n",
       "293403   142.9  7793253098902      44-1-8\n",
       "46204    264.9  7506339391589   11-5-3608\n",
       "361449   317.0  7798095672136       6-1-6"
      ]
     },
     "execution_count": 54,
     "metadata": {},
     "output_type": "execute_result"
    }
   ],
   "source": [
    "#Extracto Aleatorio\n",
    "df3.sample(5)"
   ]
  },
  {
   "cell_type": "markdown",
   "id": "7cc1a519",
   "metadata": {},
   "source": [
    "Transformacion de Dataframes Pandas a Dataframes Spark"
   ]
  },
  {
   "cell_type": "code",
   "execution_count": 55,
   "metadata": {},
   "outputs": [
    {
     "name": "stdout",
     "output_type": "stream",
     "text": [
      "root\n",
      " |-- producto_id: string (nullable = true)\n",
      " |-- marca: string (nullable = true)\n",
      " |-- nombre: string (nullable = true)\n",
      " |-- presentacion: string (nullable = true)\n",
      " |-- categoria1: string (nullable = true)\n",
      " |-- categoria2: string (nullable = true)\n",
      " |-- categoria3: string (nullable = true)\n",
      "\n"
     ]
    }
   ],
   "source": [
    "sparkDF1=spark.createDataFrame(df6) \n",
    "sparkDF1.printSchema()"
   ]
  },
  {
   "cell_type": "code",
   "execution_count": 56,
   "metadata": {},
   "outputs": [
    {
     "name": "stdout",
     "output_type": "stream",
     "text": [
      "root\n",
      " |-- id: string (nullable = true)\n",
      " |-- comercioId: long (nullable = true)\n",
      " |-- banderaId: long (nullable = true)\n",
      " |-- banderaDescripcion: string (nullable = true)\n",
      " |-- comercioRazonSocial: string (nullable = true)\n",
      " |-- provincia: string (nullable = true)\n",
      " |-- localidad: string (nullable = true)\n",
      " |-- direccion: string (nullable = true)\n",
      " |-- lat: double (nullable = true)\n",
      " |-- lng: double (nullable = true)\n",
      " |-- sucursalNombre: string (nullable = true)\n",
      " |-- sucursalTipo: string (nullable = true)\n",
      "\n"
     ]
    }
   ],
   "source": [
    "sparkDF2=spark.createDataFrame(df7) \n",
    "sparkDF2.printSchema()"
   ]
  },
  {
   "cell_type": "code",
   "execution_count": 1,
   "metadata": {},
   "outputs": [
    {
     "ename": "NameError",
     "evalue": "name 'spark' is not defined",
     "output_type": "error",
     "traceback": [
      "\u001b[1;31m---------------------------------------------------------------------------\u001b[0m",
      "\u001b[1;31mNameError\u001b[0m                                 Traceback (most recent call last)",
      "Cell \u001b[1;32mIn [1], line 1\u001b[0m\n\u001b[1;32m----> 1\u001b[0m sparkDF\u001b[39m=\u001b[39mspark\u001b[39m.\u001b[39mcreateDataFrame(df2)\n",
      "\u001b[1;31mNameError\u001b[0m: name 'spark' is not defined"
     ]
    }
   ],
   "source": [
    "sparkDF=spark.createDataFrame(df2) \n"
   ]
  },
  {
   "cell_type": "code",
   "execution_count": 64,
   "metadata": {},
   "outputs": [
    {
     "name": "stdout",
     "output_type": "stream",
     "text": [
      "root\n",
      " |-- precio: double (nullable = true)\n",
      " |-- producto_id: string (nullable = true)\n",
      " |-- sucursal_id: string (nullable = true)\n",
      "\n"
     ]
    }
   ],
   "source": [
    "sparkDF.printSchema()\n"
   ]
  },
  {
   "cell_type": "markdown",
   "id": "939c0097",
   "metadata": {},
   "source": [
    "Envio de los Dataframes a Postgres"
   ]
  },
  {
   "cell_type": "code",
   "execution_count": 70,
   "metadata": {},
   "outputs": [
    {
     "ename": "Py4JJavaError",
     "evalue": "An error occurred while calling o461.save.\n: java.lang.ClassNotFoundException: org.postgresql.Driver\n\tat java.net.URLClassLoader.findClass(URLClassLoader.java:382)\n\tat java.lang.ClassLoader.loadClass(ClassLoader.java:419)\n\tat java.lang.ClassLoader.loadClass(ClassLoader.java:352)\n\tat org.apache.spark.sql.execution.datasources.jdbc.DriverRegistry$.register(DriverRegistry.scala:45)\n\tat org.apache.spark.sql.execution.datasources.jdbc.JDBCOptions$$anonfun$5.apply(JDBCOptions.scala:99)\n\tat org.apache.spark.sql.execution.datasources.jdbc.JDBCOptions$$anonfun$5.apply(JDBCOptions.scala:99)\n\tat scala.Option.foreach(Option.scala:257)\n\tat org.apache.spark.sql.execution.datasources.jdbc.JDBCOptions.<init>(JDBCOptions.scala:99)\n\tat org.apache.spark.sql.execution.datasources.jdbc.JdbcOptionsInWrite.<init>(JDBCOptions.scala:190)\n\tat org.apache.spark.sql.execution.datasources.jdbc.JdbcOptionsInWrite.<init>(JDBCOptions.scala:194)\n\tat org.apache.spark.sql.execution.datasources.jdbc.JdbcRelationProvider.createRelation(JdbcRelationProvider.scala:45)\n\tat org.apache.spark.sql.execution.datasources.SaveIntoDataSourceCommand.run(SaveIntoDataSourceCommand.scala:45)\n\tat org.apache.spark.sql.execution.command.ExecutedCommandExec.sideEffectResult$lzycompute(commands.scala:70)\n\tat org.apache.spark.sql.execution.command.ExecutedCommandExec.sideEffectResult(commands.scala:68)\n\tat org.apache.spark.sql.execution.command.ExecutedCommandExec.doExecute(commands.scala:86)\n\tat org.apache.spark.sql.execution.SparkPlan$$anonfun$execute$1.apply(SparkPlan.scala:131)\n\tat org.apache.spark.sql.execution.SparkPlan$$anonfun$execute$1.apply(SparkPlan.scala:127)\n\tat org.apache.spark.sql.execution.SparkPlan$$anonfun$executeQuery$1.apply(SparkPlan.scala:155)\n\tat org.apache.spark.rdd.RDDOperationScope$.withScope(RDDOperationScope.scala:151)\n\tat org.apache.spark.sql.execution.SparkPlan.executeQuery(SparkPlan.scala:152)\n\tat org.apache.spark.sql.execution.SparkPlan.execute(SparkPlan.scala:127)\n\tat org.apache.spark.sql.execution.QueryExecution.toRdd$lzycompute(QueryExecution.scala:83)\n\tat org.apache.spark.sql.execution.QueryExecution.toRdd(QueryExecution.scala:81)\n\tat org.apache.spark.sql.DataFrameWriter$$anonfun$runCommand$1.apply(DataFrameWriter.scala:676)\n\tat org.apache.spark.sql.DataFrameWriter$$anonfun$runCommand$1.apply(DataFrameWriter.scala:676)\n\tat org.apache.spark.sql.execution.SQLExecution$$anonfun$withNewExecutionId$1.apply(SQLExecution.scala:80)\n\tat org.apache.spark.sql.execution.SQLExecution$.withSQLConfPropagated(SQLExecution.scala:127)\n\tat org.apache.spark.sql.execution.SQLExecution$.withNewExecutionId(SQLExecution.scala:75)\n\tat org.apache.spark.sql.DataFrameWriter.runCommand(DataFrameWriter.scala:676)\n\tat org.apache.spark.sql.DataFrameWriter.saveToV1Source(DataFrameWriter.scala:285)\n\tat org.apache.spark.sql.DataFrameWriter.save(DataFrameWriter.scala:271)\n\tat sun.reflect.NativeMethodAccessorImpl.invoke0(Native Method)\n\tat sun.reflect.NativeMethodAccessorImpl.invoke(NativeMethodAccessorImpl.java:62)\n\tat sun.reflect.DelegatingMethodAccessorImpl.invoke(DelegatingMethodAccessorImpl.java:43)\n\tat java.lang.reflect.Method.invoke(Method.java:498)\n\tat py4j.reflection.MethodInvoker.invoke(MethodInvoker.java:244)\n\tat py4j.reflection.ReflectionEngine.invoke(ReflectionEngine.java:357)\n\tat py4j.Gateway.invoke(Gateway.java:282)\n\tat py4j.commands.AbstractCommand.invokeMethod(AbstractCommand.java:132)\n\tat py4j.commands.CallCommand.execute(CallCommand.java:79)\n\tat py4j.GatewayConnection.run(GatewayConnection.java:238)\n\tat java.lang.Thread.run(Thread.java:748)\n",
     "output_type": "error",
     "traceback": [
      "\u001b[0;31m---------------------------------------------------------------------------\u001b[0m",
      "\u001b[0;31mPy4JJavaError\u001b[0m                             Traceback (most recent call last)",
      "\u001b[0;32m<ipython-input-70-04a68ca1a0fc>\u001b[0m in \u001b[0;36m<module>\u001b[0;34m\u001b[0m\n\u001b[1;32m      6\u001b[0m     \u001b[0;34m.\u001b[0m\u001b[0moption\u001b[0m\u001b[0;34m(\u001b[0m\u001b[0;34m\"password\"\u001b[0m\u001b[0;34m,\u001b[0m \u001b[0;34m\"matias\"\u001b[0m\u001b[0;34m)\u001b[0m\u001b[0;31m \u001b[0m\u001b[0;31m\\\u001b[0m\u001b[0;34m\u001b[0m\u001b[0;34m\u001b[0m\u001b[0m\n\u001b[1;32m      7\u001b[0m     \u001b[0;34m.\u001b[0m\u001b[0moption\u001b[0m\u001b[0;34m(\u001b[0m\u001b[0;34m\"driver\"\u001b[0m\u001b[0;34m,\u001b[0m \u001b[0;34m\"org.postgresql.Driver\"\u001b[0m\u001b[0;34m)\u001b[0m\u001b[0;31m \u001b[0m\u001b[0;31m\\\u001b[0m\u001b[0;34m\u001b[0m\u001b[0;34m\u001b[0m\u001b[0m\n\u001b[0;32m----> 8\u001b[0;31m     \u001b[0;34m.\u001b[0m\u001b[0mmode\u001b[0m\u001b[0;34m(\u001b[0m\u001b[0;34m'append'\u001b[0m\u001b[0;34m)\u001b[0m\u001b[0;31m \u001b[0m\u001b[0;31m\\\u001b[0m\u001b[0;34m\u001b[0m\u001b[0;34m\u001b[0m\u001b[0m\n\u001b[0m\u001b[1;32m      9\u001b[0m     \u001b[0;34m.\u001b[0m\u001b[0msave\u001b[0m\u001b[0;34m(\u001b[0m\u001b[0;34m)\u001b[0m\u001b[0;34m\u001b[0m\u001b[0;34m\u001b[0m\u001b[0m\n",
      "\u001b[0;32m/opt/spark/python/pyspark/sql/readwriter.py\u001b[0m in \u001b[0;36msave\u001b[0;34m(self, path, format, mode, partitionBy, **options)\u001b[0m\n\u001b[1;32m    735\u001b[0m             \u001b[0mself\u001b[0m\u001b[0;34m.\u001b[0m\u001b[0mformat\u001b[0m\u001b[0;34m(\u001b[0m\u001b[0mformat\u001b[0m\u001b[0;34m)\u001b[0m\u001b[0;34m\u001b[0m\u001b[0;34m\u001b[0m\u001b[0m\n\u001b[1;32m    736\u001b[0m         \u001b[0;32mif\u001b[0m \u001b[0mpath\u001b[0m \u001b[0;32mis\u001b[0m \u001b[0;32mNone\u001b[0m\u001b[0;34m:\u001b[0m\u001b[0;34m\u001b[0m\u001b[0;34m\u001b[0m\u001b[0m\n\u001b[0;32m--> 737\u001b[0;31m             \u001b[0mself\u001b[0m\u001b[0;34m.\u001b[0m\u001b[0m_jwrite\u001b[0m\u001b[0;34m.\u001b[0m\u001b[0msave\u001b[0m\u001b[0;34m(\u001b[0m\u001b[0;34m)\u001b[0m\u001b[0;34m\u001b[0m\u001b[0;34m\u001b[0m\u001b[0m\n\u001b[0m\u001b[1;32m    738\u001b[0m         \u001b[0;32melse\u001b[0m\u001b[0;34m:\u001b[0m\u001b[0;34m\u001b[0m\u001b[0;34m\u001b[0m\u001b[0m\n\u001b[1;32m    739\u001b[0m             \u001b[0mself\u001b[0m\u001b[0;34m.\u001b[0m\u001b[0m_jwrite\u001b[0m\u001b[0;34m.\u001b[0m\u001b[0msave\u001b[0m\u001b[0;34m(\u001b[0m\u001b[0mpath\u001b[0m\u001b[0;34m)\u001b[0m\u001b[0;34m\u001b[0m\u001b[0;34m\u001b[0m\u001b[0m\n",
      "\u001b[0;32m/opt/spark/python/lib/py4j-0.10.7-src.zip/py4j/java_gateway.py\u001b[0m in \u001b[0;36m__call__\u001b[0;34m(self, *args)\u001b[0m\n\u001b[1;32m   1255\u001b[0m         \u001b[0manswer\u001b[0m \u001b[0;34m=\u001b[0m \u001b[0mself\u001b[0m\u001b[0;34m.\u001b[0m\u001b[0mgateway_client\u001b[0m\u001b[0;34m.\u001b[0m\u001b[0msend_command\u001b[0m\u001b[0;34m(\u001b[0m\u001b[0mcommand\u001b[0m\u001b[0;34m)\u001b[0m\u001b[0;34m\u001b[0m\u001b[0;34m\u001b[0m\u001b[0m\n\u001b[1;32m   1256\u001b[0m         return_value = get_return_value(\n\u001b[0;32m-> 1257\u001b[0;31m             answer, self.gateway_client, self.target_id, self.name)\n\u001b[0m\u001b[1;32m   1258\u001b[0m \u001b[0;34m\u001b[0m\u001b[0m\n\u001b[1;32m   1259\u001b[0m         \u001b[0;32mfor\u001b[0m \u001b[0mtemp_arg\u001b[0m \u001b[0;32min\u001b[0m \u001b[0mtemp_args\u001b[0m\u001b[0;34m:\u001b[0m\u001b[0;34m\u001b[0m\u001b[0;34m\u001b[0m\u001b[0m\n",
      "\u001b[0;32m/opt/spark/python/pyspark/sql/utils.py\u001b[0m in \u001b[0;36mdeco\u001b[0;34m(*a, **kw)\u001b[0m\n\u001b[1;32m     61\u001b[0m     \u001b[0;32mdef\u001b[0m \u001b[0mdeco\u001b[0m\u001b[0;34m(\u001b[0m\u001b[0;34m*\u001b[0m\u001b[0ma\u001b[0m\u001b[0;34m,\u001b[0m \u001b[0;34m**\u001b[0m\u001b[0mkw\u001b[0m\u001b[0;34m)\u001b[0m\u001b[0;34m:\u001b[0m\u001b[0;34m\u001b[0m\u001b[0;34m\u001b[0m\u001b[0m\n\u001b[1;32m     62\u001b[0m         \u001b[0;32mtry\u001b[0m\u001b[0;34m:\u001b[0m\u001b[0;34m\u001b[0m\u001b[0;34m\u001b[0m\u001b[0m\n\u001b[0;32m---> 63\u001b[0;31m             \u001b[0;32mreturn\u001b[0m \u001b[0mf\u001b[0m\u001b[0;34m(\u001b[0m\u001b[0;34m*\u001b[0m\u001b[0ma\u001b[0m\u001b[0;34m,\u001b[0m \u001b[0;34m**\u001b[0m\u001b[0mkw\u001b[0m\u001b[0;34m)\u001b[0m\u001b[0;34m\u001b[0m\u001b[0;34m\u001b[0m\u001b[0m\n\u001b[0m\u001b[1;32m     64\u001b[0m         \u001b[0;32mexcept\u001b[0m \u001b[0mpy4j\u001b[0m\u001b[0;34m.\u001b[0m\u001b[0mprotocol\u001b[0m\u001b[0;34m.\u001b[0m\u001b[0mPy4JJavaError\u001b[0m \u001b[0;32mas\u001b[0m \u001b[0me\u001b[0m\u001b[0;34m:\u001b[0m\u001b[0;34m\u001b[0m\u001b[0;34m\u001b[0m\u001b[0m\n\u001b[1;32m     65\u001b[0m             \u001b[0ms\u001b[0m \u001b[0;34m=\u001b[0m \u001b[0me\u001b[0m\u001b[0;34m.\u001b[0m\u001b[0mjava_exception\u001b[0m\u001b[0;34m.\u001b[0m\u001b[0mtoString\u001b[0m\u001b[0;34m(\u001b[0m\u001b[0;34m)\u001b[0m\u001b[0;34m\u001b[0m\u001b[0;34m\u001b[0m\u001b[0m\n",
      "\u001b[0;32m/opt/spark/python/lib/py4j-0.10.7-src.zip/py4j/protocol.py\u001b[0m in \u001b[0;36mget_return_value\u001b[0;34m(answer, gateway_client, target_id, name)\u001b[0m\n\u001b[1;32m    326\u001b[0m                 raise Py4JJavaError(\n\u001b[1;32m    327\u001b[0m                     \u001b[0;34m\"An error occurred while calling {0}{1}{2}.\\n\"\u001b[0m\u001b[0;34m.\u001b[0m\u001b[0;34m\u001b[0m\u001b[0;34m\u001b[0m\u001b[0m\n\u001b[0;32m--> 328\u001b[0;31m                     format(target_id, \".\", name), value)\n\u001b[0m\u001b[1;32m    329\u001b[0m             \u001b[0;32melse\u001b[0m\u001b[0;34m:\u001b[0m\u001b[0;34m\u001b[0m\u001b[0;34m\u001b[0m\u001b[0m\n\u001b[1;32m    330\u001b[0m                 raise Py4JError(\n",
      "\u001b[0;31mPy4JJavaError\u001b[0m: An error occurred while calling o461.save.\n: java.lang.ClassNotFoundException: org.postgresql.Driver\n\tat java.net.URLClassLoader.findClass(URLClassLoader.java:382)\n\tat java.lang.ClassLoader.loadClass(ClassLoader.java:419)\n\tat java.lang.ClassLoader.loadClass(ClassLoader.java:352)\n\tat org.apache.spark.sql.execution.datasources.jdbc.DriverRegistry$.register(DriverRegistry.scala:45)\n\tat org.apache.spark.sql.execution.datasources.jdbc.JDBCOptions$$anonfun$5.apply(JDBCOptions.scala:99)\n\tat org.apache.spark.sql.execution.datasources.jdbc.JDBCOptions$$anonfun$5.apply(JDBCOptions.scala:99)\n\tat scala.Option.foreach(Option.scala:257)\n\tat org.apache.spark.sql.execution.datasources.jdbc.JDBCOptions.<init>(JDBCOptions.scala:99)\n\tat org.apache.spark.sql.execution.datasources.jdbc.JdbcOptionsInWrite.<init>(JDBCOptions.scala:190)\n\tat org.apache.spark.sql.execution.datasources.jdbc.JdbcOptionsInWrite.<init>(JDBCOptions.scala:194)\n\tat org.apache.spark.sql.execution.datasources.jdbc.JdbcRelationProvider.createRelation(JdbcRelationProvider.scala:45)\n\tat org.apache.spark.sql.execution.datasources.SaveIntoDataSourceCommand.run(SaveIntoDataSourceCommand.scala:45)\n\tat org.apache.spark.sql.execution.command.ExecutedCommandExec.sideEffectResult$lzycompute(commands.scala:70)\n\tat org.apache.spark.sql.execution.command.ExecutedCommandExec.sideEffectResult(commands.scala:68)\n\tat org.apache.spark.sql.execution.command.ExecutedCommandExec.doExecute(commands.scala:86)\n\tat org.apache.spark.sql.execution.SparkPlan$$anonfun$execute$1.apply(SparkPlan.scala:131)\n\tat org.apache.spark.sql.execution.SparkPlan$$anonfun$execute$1.apply(SparkPlan.scala:127)\n\tat org.apache.spark.sql.execution.SparkPlan$$anonfun$executeQuery$1.apply(SparkPlan.scala:155)\n\tat org.apache.spark.rdd.RDDOperationScope$.withScope(RDDOperationScope.scala:151)\n\tat org.apache.spark.sql.execution.SparkPlan.executeQuery(SparkPlan.scala:152)\n\tat org.apache.spark.sql.execution.SparkPlan.execute(SparkPlan.scala:127)\n\tat org.apache.spark.sql.execution.QueryExecution.toRdd$lzycompute(QueryExecution.scala:83)\n\tat org.apache.spark.sql.execution.QueryExecution.toRdd(QueryExecution.scala:81)\n\tat org.apache.spark.sql.DataFrameWriter$$anonfun$runCommand$1.apply(DataFrameWriter.scala:676)\n\tat org.apache.spark.sql.DataFrameWriter$$anonfun$runCommand$1.apply(DataFrameWriter.scala:676)\n\tat org.apache.spark.sql.execution.SQLExecution$$anonfun$withNewExecutionId$1.apply(SQLExecution.scala:80)\n\tat org.apache.spark.sql.execution.SQLExecution$.withSQLConfPropagated(SQLExecution.scala:127)\n\tat org.apache.spark.sql.execution.SQLExecution$.withNewExecutionId(SQLExecution.scala:75)\n\tat org.apache.spark.sql.DataFrameWriter.runCommand(DataFrameWriter.scala:676)\n\tat org.apache.spark.sql.DataFrameWriter.saveToV1Source(DataFrameWriter.scala:285)\n\tat org.apache.spark.sql.DataFrameWriter.save(DataFrameWriter.scala:271)\n\tat sun.reflect.NativeMethodAccessorImpl.invoke0(Native Method)\n\tat sun.reflect.NativeMethodAccessorImpl.invoke(NativeMethodAccessorImpl.java:62)\n\tat sun.reflect.DelegatingMethodAccessorImpl.invoke(DelegatingMethodAccessorImpl.java:43)\n\tat java.lang.reflect.Method.invoke(Method.java:498)\n\tat py4j.reflection.MethodInvoker.invoke(MethodInvoker.java:244)\n\tat py4j.reflection.ReflectionEngine.invoke(ReflectionEngine.java:357)\n\tat py4j.Gateway.invoke(Gateway.java:282)\n\tat py4j.commands.AbstractCommand.invokeMethod(AbstractCommand.java:132)\n\tat py4j.commands.CallCommand.execute(CallCommand.java:79)\n\tat py4j.GatewayConnection.run(GatewayConnection.java:238)\n\tat java.lang.Thread.run(Thread.java:748)\n"
     ]
    }
   ],
   "source": [
    "sparkDF.write \\\n",
    "    .format(\"jdbc\") \\\n",
    "    .option(\"url\", \"jdbc:postgresql://postgres/henry\") \\\n",
    "    .option(\"dbtable\", \"precios2\") \\\n",
    "    .option(\"user\", \"matias\") \\\n",
    "    .option(\"password\", \"matias\") \\\n",
    "    .option(\"driver\", \"org.postgresql.Driver\") \\\n",
    "    .mode('append') \\\n",
    "    .save()"
   ]
  },
  {
   "cell_type": "code",
   "execution_count": null,
   "metadata": {},
   "outputs": [],
   "source": [
    "sparkDF1 \\\n",
    "    .write \\\n",
    "    .format(\"jdbc\") \\\n",
    "    .option(\"url\", \"jdbc:postgresql://postgres/henry\") \\\n",
    "    .option(\"dbtable\", \"productos2\") \\\n",
    "    .option(\"user\", \"matias\") \\\n",
    "    .option(\"password\", \"matias\") \\\n",
    "    .option(\"driver\", \"org.postgresql.Driver\") \\\n",
    "    .mode('append') \\\n",
    "    .save()"
   ]
  },
  {
   "cell_type": "code",
   "execution_count": null,
   "metadata": {},
   "outputs": [],
   "source": [
    "sparkDF2 \\\n",
    "    .write \\\n",
    "    .format(\"jdbc\") \\\n",
    "    .option(\"url\", \"jdbc:postgresql://postgres/henry\") \\\n",
    "    .option(\"dbtable\", \"sucursales\") \\\n",
    "    .option(\"user\", \"matias\") \\\n",
    "    .option(\"password\", \"matias\") \\\n",
    "    .option(\"driver\", \"org.postgresql.Driver\") \\\n",
    "    .mode('append') \\\n",
    "    .save()"
   ]
  }
 ],
 "metadata": {
  "kernelspec": {
   "display_name": "Python 3.10.7 64-bit",
   "language": "python",
   "name": "python3"
  },
  "language_info": {
   "codemirror_mode": {
    "name": "ipython",
    "version": 3
   },
   "file_extension": ".py",
   "mimetype": "text/x-python",
   "name": "python",
   "nbconvert_exporter": "python",
   "pygments_lexer": "ipython3",
   "version": "3.10.7"
  },
  "vscode": {
   "interpreter": {
    "hash": "3cb5fae0850c922f903a04d3514d1ed4ba39007c82693cf2152432305df4401f"
   }
  }
 },
 "nbformat": 4,
 "nbformat_minor": 5
}
